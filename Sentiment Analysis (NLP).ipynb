{
 "cells": [
  {
   "cell_type": "code",
   "execution_count": 443,
   "metadata": {},
   "outputs": [],
   "source": [
    "import pandas as pd\n",
    "import numpy as np\n",
    "import matplotlib.pyplot as plt\n",
    "import nltk"
   ]
  },
  {
   "cell_type": "markdown",
   "metadata": {},
   "source": [
    "# Preprocessing"
   ]
  },
  {
   "cell_type": "code",
   "execution_count": 444,
   "metadata": {},
   "outputs": [],
   "source": [
    "df = pd.read_csv('Restaurant_Reviews.tsv', delimiter = '\\t')"
   ]
  },
  {
   "cell_type": "code",
   "execution_count": 445,
   "metadata": {},
   "outputs": [
    {
     "data": {
      "text/html": [
       "<div>\n",
       "<style scoped>\n",
       "    .dataframe tbody tr th:only-of-type {\n",
       "        vertical-align: middle;\n",
       "    }\n",
       "\n",
       "    .dataframe tbody tr th {\n",
       "        vertical-align: top;\n",
       "    }\n",
       "\n",
       "    .dataframe thead th {\n",
       "        text-align: right;\n",
       "    }\n",
       "</style>\n",
       "<table border=\"1\" class=\"dataframe\">\n",
       "  <thead>\n",
       "    <tr style=\"text-align: right;\">\n",
       "      <th></th>\n",
       "      <th>Review</th>\n",
       "      <th>Liked</th>\n",
       "    </tr>\n",
       "  </thead>\n",
       "  <tbody>\n",
       "    <tr>\n",
       "      <th>0</th>\n",
       "      <td>Wow... Loved this place.</td>\n",
       "      <td>1</td>\n",
       "    </tr>\n",
       "    <tr>\n",
       "      <th>1</th>\n",
       "      <td>Crust is not good.</td>\n",
       "      <td>0</td>\n",
       "    </tr>\n",
       "    <tr>\n",
       "      <th>2</th>\n",
       "      <td>Not tasty and the texture was just nasty.</td>\n",
       "      <td>0</td>\n",
       "    </tr>\n",
       "    <tr>\n",
       "      <th>3</th>\n",
       "      <td>Stopped by during the late May bank holiday off Rick Steve recommendation and loved it.</td>\n",
       "      <td>1</td>\n",
       "    </tr>\n",
       "    <tr>\n",
       "      <th>4</th>\n",
       "      <td>The selection on the menu was great and so were the prices.</td>\n",
       "      <td>1</td>\n",
       "    </tr>\n",
       "    <tr>\n",
       "      <th>5</th>\n",
       "      <td>Now I am getting angry and I want my damn pho.</td>\n",
       "      <td>0</td>\n",
       "    </tr>\n",
       "    <tr>\n",
       "      <th>6</th>\n",
       "      <td>Honeslty it didn't taste THAT fresh.)</td>\n",
       "      <td>0</td>\n",
       "    </tr>\n",
       "    <tr>\n",
       "      <th>7</th>\n",
       "      <td>The potatoes were like rubber and you could tell they had been made up ahead of time being kept under a warmer.</td>\n",
       "      <td>0</td>\n",
       "    </tr>\n",
       "    <tr>\n",
       "      <th>8</th>\n",
       "      <td>The fries were great too.</td>\n",
       "      <td>1</td>\n",
       "    </tr>\n",
       "    <tr>\n",
       "      <th>9</th>\n",
       "      <td>A great touch.</td>\n",
       "      <td>1</td>\n",
       "    </tr>\n",
       "  </tbody>\n",
       "</table>\n",
       "</div>"
      ],
      "text/plain": [
       "                                                                                                            Review  \\\n",
       "0  Wow... Loved this place.                                                                                          \n",
       "1  Crust is not good.                                                                                                \n",
       "2  Not tasty and the texture was just nasty.                                                                         \n",
       "3  Stopped by during the late May bank holiday off Rick Steve recommendation and loved it.                           \n",
       "4  The selection on the menu was great and so were the prices.                                                       \n",
       "5  Now I am getting angry and I want my damn pho.                                                                    \n",
       "6  Honeslty it didn't taste THAT fresh.)                                                                             \n",
       "7  The potatoes were like rubber and you could tell they had been made up ahead of time being kept under a warmer.   \n",
       "8  The fries were great too.                                                                                         \n",
       "9  A great touch.                                                                                                    \n",
       "\n",
       "   Liked  \n",
       "0  1      \n",
       "1  0      \n",
       "2  0      \n",
       "3  1      \n",
       "4  1      \n",
       "5  0      \n",
       "6  0      \n",
       "7  0      \n",
       "8  1      \n",
       "9  1      "
      ]
     },
     "execution_count": 445,
     "metadata": {},
     "output_type": "execute_result"
    }
   ],
   "source": [
    "df.head(10)"
   ]
  },
  {
   "cell_type": "code",
   "execution_count": 446,
   "metadata": {},
   "outputs": [],
   "source": [
    "rev = df['Review']"
   ]
  },
  {
   "cell_type": "code",
   "execution_count": 447,
   "metadata": {},
   "outputs": [],
   "source": [
    "df['Review'] = df['Review'].str.lower()"
   ]
  },
  {
   "cell_type": "code",
   "execution_count": 448,
   "metadata": {},
   "outputs": [],
   "source": [
    "import re\n",
    "def rem_punc(x):\n",
    "    x = re.sub(r\"[^a-zA-Z0-9]\", \" \", x)\n",
    "    return x"
   ]
  },
  {
   "cell_type": "code",
   "execution_count": 449,
   "metadata": {
    "scrolled": true
   },
   "outputs": [],
   "source": [
    "df['Review'] = df['Review'].apply(rem_punc)"
   ]
  },
  {
   "cell_type": "code",
   "execution_count": 450,
   "metadata": {},
   "outputs": [
    {
     "data": {
      "text/plain": [
       "0     wow    loved this place                                                                                        \n",
       "1     crust is not good                                                                                              \n",
       "2     not tasty and the texture was just nasty                                                                       \n",
       "3     stopped by during the late may bank holiday off rick steve recommendation and loved it                         \n",
       "4     the selection on the menu was great and so were the prices                                                     \n",
       "5     now i am getting angry and i want my damn pho                                                                  \n",
       "6     honeslty it didn t taste that fresh                                                                            \n",
       "7     the potatoes were like rubber and you could tell they had been made up ahead of time being kept under a warmer \n",
       "8     the fries were great too                                                                                       \n",
       "9     a great touch                                                                                                  \n",
       "10    service was very prompt                                                                                        \n",
       "11    would not go back                                                                                              \n",
       "12    the cashier had no care what so ever on what i had to say it still ended up being wayyy overpriced             \n",
       "13    i tried the cape cod ravoli  chicken  with cranberry   mmmm                                                    \n",
       "14    i was disgusted because i was pretty sure that was human hair                                                  \n",
       "15    i was shocked because no signs indicate cash only                                                              \n",
       "16    highly recommended                                                                                             \n",
       "17    waitress was a little slow in service                                                                          \n",
       "18    this place is not worth your time  let alone vegas                                                             \n",
       "19    did not like at all                                                                                            \n",
       "Name: Review, dtype: object"
      ]
     },
     "execution_count": 450,
     "metadata": {},
     "output_type": "execute_result"
    }
   ],
   "source": [
    "df['Review'].head(20)"
   ]
  },
  {
   "cell_type": "code",
   "execution_count": 451,
   "metadata": {},
   "outputs": [
    {
     "name": "stderr",
     "output_type": "stream",
     "text": [
      "[nltk_data] Downloading package punkt to\n",
      "[nltk_data]     C:\\Users\\CompuTek\\AppData\\Roaming\\nltk_data...\n",
      "[nltk_data]   Package punkt is already up-to-date!\n"
     ]
    }
   ],
   "source": [
    "nltk.download('punkt')\n",
    "from nltk.tokenize import word_tokenize\n",
    "df['Review'] = df['Review'].apply(lambda x: word_tokenize(x))"
   ]
  },
  {
   "cell_type": "code",
   "execution_count": 452,
   "metadata": {},
   "outputs": [
    {
     "data": {
      "text/plain": [
       "0    [wow, loved, this, place]                                                                                                            \n",
       "1    [crust, is, not, good]                                                                                                               \n",
       "2    [not, tasty, and, the, texture, was, just, nasty]                                                                                    \n",
       "3    [stopped, by, during, the, late, may, bank, holiday, off, rick, steve, recommendation, and, loved, it]                               \n",
       "4    [the, selection, on, the, menu, was, great, and, so, were, the, prices]                                                              \n",
       "5    [now, i, am, getting, angry, and, i, want, my, damn, pho]                                                                            \n",
       "6    [honeslty, it, didn, t, taste, that, fresh]                                                                                          \n",
       "7    [the, potatoes, were, like, rubber, and, you, could, tell, they, had, been, made, up, ahead, of, time, being, kept, under, a, warmer]\n",
       "8    [the, fries, were, great, too]                                                                                                       \n",
       "9    [a, great, touch]                                                                                                                    \n",
       "Name: Review, dtype: object"
      ]
     },
     "execution_count": 452,
     "metadata": {},
     "output_type": "execute_result"
    }
   ],
   "source": [
    "df['Review'].head(10)"
   ]
  },
  {
   "cell_type": "code",
   "execution_count": 453,
   "metadata": {},
   "outputs": [],
   "source": [
    "import string\n",
    "\n",
    "df['Review'] = df['Review'].apply(lambda x : [w.strip(string.punctuation) for w in x ])"
   ]
  },
  {
   "cell_type": "code",
   "execution_count": 454,
   "metadata": {},
   "outputs": [
    {
     "data": {
      "text/plain": [
       "0    [wow, loved, this, place]                                                                                                            \n",
       "1    [crust, is, not, good]                                                                                                               \n",
       "2    [not, tasty, and, the, texture, was, just, nasty]                                                                                    \n",
       "3    [stopped, by, during, the, late, may, bank, holiday, off, rick, steve, recommendation, and, loved, it]                               \n",
       "4    [the, selection, on, the, menu, was, great, and, so, were, the, prices]                                                              \n",
       "5    [now, i, am, getting, angry, and, i, want, my, damn, pho]                                                                            \n",
       "6    [honeslty, it, didn, t, taste, that, fresh]                                                                                          \n",
       "7    [the, potatoes, were, like, rubber, and, you, could, tell, they, had, been, made, up, ahead, of, time, being, kept, under, a, warmer]\n",
       "8    [the, fries, were, great, too]                                                                                                       \n",
       "9    [a, great, touch]                                                                                                                    \n",
       "Name: Review, dtype: object"
      ]
     },
     "execution_count": 454,
     "metadata": {},
     "output_type": "execute_result"
    }
   ],
   "source": [
    "df['Review'].head(10)"
   ]
  },
  {
   "cell_type": "code",
   "execution_count": 455,
   "metadata": {
    "scrolled": true
   },
   "outputs": [],
   "source": [
    "#from nltk.corpus import stopwords\n",
    "#nltk.download('stopwords')\n",
    "#df['Review'] = df['Review'].apply(lambda words: [w for w in words if w not in stopwords.words('english')] )"
   ]
  },
  {
   "cell_type": "code",
   "execution_count": 457,
   "metadata": {},
   "outputs": [],
   "source": [
    "neg_words = ['not', 'n\\'t']\n",
    "stop_words = [w for w in stopwords.words('english') if w not in neg_words]"
   ]
  },
  {
   "cell_type": "code",
   "execution_count": 458,
   "metadata": {},
   "outputs": [
    {
     "data": {
      "text/plain": [
       "False"
      ]
     },
     "execution_count": 458,
     "metadata": {},
     "output_type": "execute_result"
    }
   ],
   "source": [
    "'not' in stop_words"
   ]
  },
  {
   "cell_type": "code",
   "execution_count": 459,
   "metadata": {},
   "outputs": [],
   "source": [
    "from nltk.corpus import stopwords\n",
    "df['Review'] = df['Review'].apply(lambda words: [w for w in words if w not in stop_words] )"
   ]
  },
  {
   "cell_type": "code",
   "execution_count": 460,
   "metadata": {},
   "outputs": [
    {
     "data": {
      "text/plain": [
       "0    [wow, loved, place]                                                    \n",
       "1    [crust, not, good]                                                     \n",
       "2    [not, tasty, texture, nasty]                                           \n",
       "3    [stopped, late, may, bank, holiday, rick, steve, recommendation, loved]\n",
       "4    [selection, menu, great, prices]                                       \n",
       "5    [getting, angry, want, damn, pho]                                      \n",
       "6    [honeslty, taste, fresh]                                               \n",
       "7    [potatoes, like, rubber, could, tell, made, ahead, time, kept, warmer] \n",
       "8    [fries, great]                                                         \n",
       "9    [great, touch]                                                         \n",
       "Name: Review, dtype: object"
      ]
     },
     "execution_count": 460,
     "metadata": {},
     "output_type": "execute_result"
    }
   ],
   "source": [
    "df['Review'].head(10)"
   ]
  },
  {
   "cell_type": "code",
   "execution_count": 461,
   "metadata": {},
   "outputs": [
    {
     "name": "stderr",
     "output_type": "stream",
     "text": [
      "[nltk_data] Downloading package wordnet to\n",
      "[nltk_data]     C:\\Users\\CompuTek\\AppData\\Roaming\\nltk_data...\n",
      "[nltk_data]   Package wordnet is already up-to-date!\n"
     ]
    }
   ],
   "source": [
    "from nltk.stem.porter import PorterStemmer\n",
    "nltk.download('wordnet')\n",
    "df['Review'] = df['Review'].apply(lambda x: [PorterStemmer().stem(w) for w in x])"
   ]
  },
  {
   "cell_type": "code",
   "execution_count": 462,
   "metadata": {},
   "outputs": [
    {
     "name": "stderr",
     "output_type": "stream",
     "text": [
      "[nltk_data] Downloading package wordnet to\n",
      "[nltk_data]     C:\\Users\\CompuTek\\AppData\\Roaming\\nltk_data...\n",
      "[nltk_data]   Package wordnet is already up-to-date!\n"
     ]
    }
   ],
   "source": [
    "from nltk.stem.wordnet import WordNetLemmatizer\n",
    "nltk.download('wordnet')\n",
    "df['Review'] = df['Review'].apply(lambda x: [WordNetLemmatizer().lemmatize(w) for w in x])\n"
   ]
  },
  {
   "cell_type": "code",
   "execution_count": 463,
   "metadata": {},
   "outputs": [
    {
     "data": {
      "text/plain": [
       "0    [wow, love, place]                                                  \n",
       "1    [crust, not, good]                                                  \n",
       "2    [not, tasti, textur, nasti]                                         \n",
       "3    [stop, late, may, bank, holiday, rick, steve, recommend, love]      \n",
       "4    [select, menu, great, price]                                        \n",
       "5    [get, angri, want, damn, pho]                                       \n",
       "6    [honeslti, tast, fresh]                                             \n",
       "7    [potato, like, rubber, could, tell, made, ahead, time, kept, warmer]\n",
       "8    [fri, great]                                                        \n",
       "9    [great, touch]                                                      \n",
       "Name: Review, dtype: object"
      ]
     },
     "execution_count": 463,
     "metadata": {},
     "output_type": "execute_result"
    }
   ],
   "source": [
    "df['Review'][:10]"
   ]
  },
  {
   "cell_type": "code",
   "execution_count": 464,
   "metadata": {},
   "outputs": [],
   "source": [
    "def replace(x):\n",
    "    re.sub(\"n't\",\"\",\"not\".join(x))\n",
    "    return x \n",
    "            "
   ]
  },
  {
   "cell_type": "code",
   "execution_count": 465,
   "metadata": {},
   "outputs": [],
   "source": [
    "df['Review'] = df['Review'].apply(replace)\n"
   ]
  },
  {
   "cell_type": "code",
   "execution_count": 466,
   "metadata": {},
   "outputs": [],
   "source": [
    "df['Review'] = df['Review'].apply(lambda x: \" \".join(x))"
   ]
  },
  {
   "cell_type": "code",
   "execution_count": 467,
   "metadata": {},
   "outputs": [
    {
     "data": {
      "text/html": [
       "<div>\n",
       "<style scoped>\n",
       "    .dataframe tbody tr th:only-of-type {\n",
       "        vertical-align: middle;\n",
       "    }\n",
       "\n",
       "    .dataframe tbody tr th {\n",
       "        vertical-align: top;\n",
       "    }\n",
       "\n",
       "    .dataframe thead th {\n",
       "        text-align: right;\n",
       "    }\n",
       "</style>\n",
       "<table border=\"1\" class=\"dataframe\">\n",
       "  <thead>\n",
       "    <tr style=\"text-align: right;\">\n",
       "      <th></th>\n",
       "      <th>Review</th>\n",
       "      <th>Liked</th>\n",
       "    </tr>\n",
       "  </thead>\n",
       "  <tbody>\n",
       "    <tr>\n",
       "      <th>0</th>\n",
       "      <td>wow love place</td>\n",
       "      <td>1</td>\n",
       "    </tr>\n",
       "    <tr>\n",
       "      <th>1</th>\n",
       "      <td>crust not good</td>\n",
       "      <td>0</td>\n",
       "    </tr>\n",
       "    <tr>\n",
       "      <th>2</th>\n",
       "      <td>not tasti textur nasti</td>\n",
       "      <td>0</td>\n",
       "    </tr>\n",
       "    <tr>\n",
       "      <th>3</th>\n",
       "      <td>stop late may bank holiday rick steve recommend love</td>\n",
       "      <td>1</td>\n",
       "    </tr>\n",
       "    <tr>\n",
       "      <th>4</th>\n",
       "      <td>select menu great price</td>\n",
       "      <td>1</td>\n",
       "    </tr>\n",
       "    <tr>\n",
       "      <th>5</th>\n",
       "      <td>get angri want damn pho</td>\n",
       "      <td>0</td>\n",
       "    </tr>\n",
       "    <tr>\n",
       "      <th>6</th>\n",
       "      <td>honeslti tast fresh</td>\n",
       "      <td>0</td>\n",
       "    </tr>\n",
       "    <tr>\n",
       "      <th>7</th>\n",
       "      <td>potato like rubber could tell made ahead time kept warmer</td>\n",
       "      <td>0</td>\n",
       "    </tr>\n",
       "    <tr>\n",
       "      <th>8</th>\n",
       "      <td>fri great</td>\n",
       "      <td>1</td>\n",
       "    </tr>\n",
       "    <tr>\n",
       "      <th>9</th>\n",
       "      <td>great touch</td>\n",
       "      <td>1</td>\n",
       "    </tr>\n",
       "  </tbody>\n",
       "</table>\n",
       "</div>"
      ],
      "text/plain": [
       "                                                      Review  Liked\n",
       "0  wow love place                                             1    \n",
       "1  crust not good                                             0    \n",
       "2  not tasti textur nasti                                     0    \n",
       "3  stop late may bank holiday rick steve recommend love       1    \n",
       "4  select menu great price                                    1    \n",
       "5  get angri want damn pho                                    0    \n",
       "6  honeslti tast fresh                                        0    \n",
       "7  potato like rubber could tell made ahead time kept warmer  0    \n",
       "8  fri great                                                  1    \n",
       "9  great touch                                                1    "
      ]
     },
     "execution_count": 467,
     "metadata": {},
     "output_type": "execute_result"
    }
   ],
   "source": [
    "df.head(10)"
   ]
  },
  {
   "cell_type": "markdown",
   "metadata": {},
   "source": [
    "# Feature Extraction"
   ]
  },
  {
   "cell_type": "code",
   "execution_count": 477,
   "metadata": {},
   "outputs": [],
   "source": [
    "from sklearn.feature_extraction.text import CountVectorizer\n",
    "cv = CountVectorizer(min_df = 2)\n",
    "X = cv.fit_transform(df['Review'])"
   ]
  },
  {
   "cell_type": "code",
   "execution_count": 478,
   "metadata": {},
   "outputs": [
    {
     "data": {
      "text/plain": [
       "<1000x701 sparse matrix of type '<class 'numpy.int64'>'\n",
       "\twith 4620 stored elements in Compressed Sparse Row format>"
      ]
     },
     "execution_count": 478,
     "metadata": {},
     "output_type": "execute_result"
    }
   ],
   "source": [
    "X"
   ]
  },
  {
   "cell_type": "code",
   "execution_count": 479,
   "metadata": {},
   "outputs": [
    {
     "data": {
      "text/plain": [
       "MultinomialNB(alpha=1.0, class_prior=None, fit_prior=True)"
      ]
     },
     "execution_count": 479,
     "metadata": {},
     "output_type": "execute_result"
    }
   ],
   "source": [
    "from sklearn.naive_bayes import MultinomialNB\n",
    "clf = MultinomialNB()\n",
    "clf.fit(X, df['Liked'])"
   ]
  },
  {
   "cell_type": "code",
   "execution_count": 499,
   "metadata": {},
   "outputs": [
    {
     "data": {
      "text/plain": [
       "<1x701 sparse matrix of type '<class 'numpy.int64'>'\n",
       "\twith 2 stored elements in Compressed Sparse Row format>"
      ]
     },
     "execution_count": 499,
     "metadata": {},
     "output_type": "execute_result"
    }
   ],
   "source": [
    "test = ['love cake']\n",
    "cv.transform(test)"
   ]
  },
  {
   "cell_type": "code",
   "execution_count": 500,
   "metadata": {},
   "outputs": [
    {
     "data": {
      "text/plain": [
       "array([1], dtype=int64)"
      ]
     },
     "execution_count": 500,
     "metadata": {},
     "output_type": "execute_result"
    }
   ],
   "source": [
    "clf.predict(cv.transform(test))"
   ]
  },
  {
   "cell_type": "code",
   "execution_count": null,
   "metadata": {},
   "outputs": [],
   "source": []
  }
 ],
 "metadata": {
  "kernelspec": {
   "display_name": "Python 3",
   "language": "python",
   "name": "python3"
  },
  "language_info": {
   "codemirror_mode": {
    "name": "ipython",
    "version": 3
   },
   "file_extension": ".py",
   "mimetype": "text/x-python",
   "name": "python",
   "nbconvert_exporter": "python",
   "pygments_lexer": "ipython3",
   "version": "3.7.1"
  }
 },
 "nbformat": 4,
 "nbformat_minor": 2
}
