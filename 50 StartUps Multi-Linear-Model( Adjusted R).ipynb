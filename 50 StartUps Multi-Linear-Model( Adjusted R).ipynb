{
 "cells": [
  {
   "cell_type": "markdown",
   "metadata": {},
   "source": [
    "# Startups Sataset Multi-Linear Regression"
   ]
  },
  {
   "cell_type": "code",
   "execution_count": 1,
   "metadata": {},
   "outputs": [],
   "source": [
    "%matplotlib inline\n",
    "import numpy as np\n",
    "import pandas as pd\n",
    "import matplotlib.pyplot as plt\n",
    "import math\n",
    "import seaborn as sns\n",
    "from scipy import stats\n",
    "from sklearn.model_selection import train_test_split\n",
    "from sklearn.linear_model import LinearRegression\n",
    "from sklearn.metrics import mean_squared_error as mse,r2_score as r2,mean_absolute_error as mae\n",
    "from sklearn.preprocessing import StandardScaler, minmax_scale\n",
    "from sklearn.preprocessing import OneHotEncoder, LabelEncoder\n",
    "import statsmodels.formula.api as sm"
   ]
  },
  {
   "cell_type": "code",
   "execution_count": 2,
   "metadata": {},
   "outputs": [],
   "source": [
    "def AdjR(r2, p, n):\n",
    "    R2_Adj = 1 - ((1 - r2) * (n - 1) / (n - p - 1))\n",
    "    return R2_Adj"
   ]
  },
  {
   "cell_type": "code",
   "execution_count": 3,
   "metadata": {},
   "outputs": [],
   "source": [
    "dataset = pd.read_csv('dataset.csv')"
   ]
  },
  {
   "cell_type": "code",
   "execution_count": 4,
   "metadata": {},
   "outputs": [
    {
     "data": {
      "text/html": [
       "<div>\n",
       "<style scoped>\n",
       "    .dataframe tbody tr th:only-of-type {\n",
       "        vertical-align: middle;\n",
       "    }\n",
       "\n",
       "    .dataframe tbody tr th {\n",
       "        vertical-align: top;\n",
       "    }\n",
       "\n",
       "    .dataframe thead th {\n",
       "        text-align: right;\n",
       "    }\n",
       "</style>\n",
       "<table border=\"1\" class=\"dataframe\">\n",
       "  <thead>\n",
       "    <tr style=\"text-align: right;\">\n",
       "      <th></th>\n",
       "      <th>R&amp;D Spend</th>\n",
       "      <th>Administration</th>\n",
       "      <th>Marketing Spend</th>\n",
       "      <th>State</th>\n",
       "      <th>Profit</th>\n",
       "    </tr>\n",
       "  </thead>\n",
       "  <tbody>\n",
       "    <tr>\n",
       "      <th>0</th>\n",
       "      <td>165349.20</td>\n",
       "      <td>136897.80</td>\n",
       "      <td>471784.10</td>\n",
       "      <td>New York</td>\n",
       "      <td>192261.83</td>\n",
       "    </tr>\n",
       "    <tr>\n",
       "      <th>1</th>\n",
       "      <td>162597.70</td>\n",
       "      <td>151377.59</td>\n",
       "      <td>443898.53</td>\n",
       "      <td>California</td>\n",
       "      <td>191792.06</td>\n",
       "    </tr>\n",
       "    <tr>\n",
       "      <th>2</th>\n",
       "      <td>153441.51</td>\n",
       "      <td>101145.55</td>\n",
       "      <td>407934.54</td>\n",
       "      <td>Florida</td>\n",
       "      <td>191050.39</td>\n",
       "    </tr>\n",
       "    <tr>\n",
       "      <th>3</th>\n",
       "      <td>144372.41</td>\n",
       "      <td>118671.85</td>\n",
       "      <td>383199.62</td>\n",
       "      <td>New York</td>\n",
       "      <td>182901.99</td>\n",
       "    </tr>\n",
       "    <tr>\n",
       "      <th>4</th>\n",
       "      <td>142107.34</td>\n",
       "      <td>91391.77</td>\n",
       "      <td>366168.42</td>\n",
       "      <td>Florida</td>\n",
       "      <td>166187.94</td>\n",
       "    </tr>\n",
       "  </tbody>\n",
       "</table>\n",
       "</div>"
      ],
      "text/plain": [
       "   R&D Spend  Administration  Marketing Spend       State     Profit\n",
       "0  165349.20       136897.80        471784.10    New York  192261.83\n",
       "1  162597.70       151377.59        443898.53  California  191792.06\n",
       "2  153441.51       101145.55        407934.54     Florida  191050.39\n",
       "3  144372.41       118671.85        383199.62    New York  182901.99\n",
       "4  142107.34        91391.77        366168.42     Florida  166187.94"
      ]
     },
     "execution_count": 4,
     "metadata": {},
     "output_type": "execute_result"
    }
   ],
   "source": [
    "dataset.head()"
   ]
  },
  {
   "cell_type": "code",
   "execution_count": 5,
   "metadata": {},
   "outputs": [
    {
     "name": "stdout",
     "output_type": "stream",
     "text": [
      "<class 'pandas.core.frame.DataFrame'>\n",
      "RangeIndex: 50 entries, 0 to 49\n",
      "Data columns (total 5 columns):\n",
      "R&D Spend          49 non-null float64\n",
      "Administration     49 non-null float64\n",
      "Marketing Spend    49 non-null float64\n",
      "State              50 non-null object\n",
      "Profit             50 non-null float64\n",
      "dtypes: float64(4), object(1)\n",
      "memory usage: 2.0+ KB\n"
     ]
    }
   ],
   "source": [
    "dataset.info()"
   ]
  },
  {
   "cell_type": "code",
   "execution_count": 6,
   "metadata": {},
   "outputs": [
    {
     "data": {
      "text/html": [
       "<div>\n",
       "<style scoped>\n",
       "    .dataframe tbody tr th:only-of-type {\n",
       "        vertical-align: middle;\n",
       "    }\n",
       "\n",
       "    .dataframe tbody tr th {\n",
       "        vertical-align: top;\n",
       "    }\n",
       "\n",
       "    .dataframe thead th {\n",
       "        text-align: right;\n",
       "    }\n",
       "</style>\n",
       "<table border=\"1\" class=\"dataframe\">\n",
       "  <thead>\n",
       "    <tr style=\"text-align: right;\">\n",
       "      <th></th>\n",
       "      <th>R&amp;D Spend</th>\n",
       "      <th>Administration</th>\n",
       "      <th>Marketing Spend</th>\n",
       "      <th>Profit</th>\n",
       "    </tr>\n",
       "  </thead>\n",
       "  <tbody>\n",
       "    <tr>\n",
       "      <th>count</th>\n",
       "      <td>49.000000</td>\n",
       "      <td>49.000000</td>\n",
       "      <td>49.000000</td>\n",
       "      <td>50.000000</td>\n",
       "    </tr>\n",
       "    <tr>\n",
       "      <th>mean</th>\n",
       "      <td>74093.608776</td>\n",
       "      <td>121315.290408</td>\n",
       "      <td>215331.732449</td>\n",
       "      <td>112012.639200</td>\n",
       "    </tr>\n",
       "    <tr>\n",
       "      <th>std</th>\n",
       "      <td>46301.730529</td>\n",
       "      <td>28307.373863</td>\n",
       "      <td>119665.391550</td>\n",
       "      <td>40306.180338</td>\n",
       "    </tr>\n",
       "    <tr>\n",
       "      <th>min</th>\n",
       "      <td>0.000000</td>\n",
       "      <td>51283.140000</td>\n",
       "      <td>0.000000</td>\n",
       "      <td>14681.400000</td>\n",
       "    </tr>\n",
       "    <tr>\n",
       "      <th>25%</th>\n",
       "      <td>38558.510000</td>\n",
       "      <td>103057.490000</td>\n",
       "      <td>134050.070000</td>\n",
       "      <td>90138.902500</td>\n",
       "    </tr>\n",
       "    <tr>\n",
       "      <th>50%</th>\n",
       "      <td>73994.560000</td>\n",
       "      <td>122616.840000</td>\n",
       "      <td>214634.810000</td>\n",
       "      <td>107978.190000</td>\n",
       "    </tr>\n",
       "    <tr>\n",
       "      <th>75%</th>\n",
       "      <td>101913.080000</td>\n",
       "      <td>145077.580000</td>\n",
       "      <td>299737.290000</td>\n",
       "      <td>139765.977500</td>\n",
       "    </tr>\n",
       "    <tr>\n",
       "      <th>max</th>\n",
       "      <td>165349.200000</td>\n",
       "      <td>182645.560000</td>\n",
       "      <td>471784.100000</td>\n",
       "      <td>192261.830000</td>\n",
       "    </tr>\n",
       "  </tbody>\n",
       "</table>\n",
       "</div>"
      ],
      "text/plain": [
       "           R&D Spend  Administration  Marketing Spend         Profit\n",
       "count      49.000000       49.000000        49.000000      50.000000\n",
       "mean    74093.608776   121315.290408    215331.732449  112012.639200\n",
       "std     46301.730529    28307.373863    119665.391550   40306.180338\n",
       "min         0.000000    51283.140000         0.000000   14681.400000\n",
       "25%     38558.510000   103057.490000    134050.070000   90138.902500\n",
       "50%     73994.560000   122616.840000    214634.810000  107978.190000\n",
       "75%    101913.080000   145077.580000    299737.290000  139765.977500\n",
       "max    165349.200000   182645.560000    471784.100000  192261.830000"
      ]
     },
     "execution_count": 6,
     "metadata": {},
     "output_type": "execute_result"
    }
   ],
   "source": [
    "dataset.describe()"
   ]
  },
  {
   "cell_type": "code",
   "execution_count": 7,
   "metadata": {},
   "outputs": [
    {
     "data": {
      "text/plain": [
       "<matplotlib.axes._subplots.AxesSubplot at 0xbebd7b8>"
      ]
     },
     "execution_count": 7,
     "metadata": {},
     "output_type": "execute_result"
    },
    {
     "data": {
      "image/png": "[encoded data removed]",
      "text/plain": [
       "<Figure size 432x288 with 1 Axes>"
      ]
     },
     "metadata": {
      "needs_background": "light"
     },
     "output_type": "display_data"
    }
   ],
   "source": [
    "dataset.boxplot()"
   ]
  },
  {
   "cell_type": "code",
   "execution_count": 8,
   "metadata": {},
   "outputs": [
    {
     "data": {
      "text/plain": [
       "array([[<matplotlib.axes._subplots.AxesSubplot object at 0x000000000BC4E748>,\n",
       "        <matplotlib.axes._subplots.AxesSubplot object at 0x000000000BD306D8>,\n",
       "        <matplotlib.axes._subplots.AxesSubplot object at 0x000000000BBE4940>,\n",
       "        <matplotlib.axes._subplots.AxesSubplot object at 0x000000000BC04BA8>],\n",
       "       [<matplotlib.axes._subplots.AxesSubplot object at 0x000000000BDAFE10>,\n",
       "        <matplotlib.axes._subplots.AxesSubplot object at 0x000000000BD640B8>,\n",
       "        <matplotlib.axes._subplots.AxesSubplot object at 0x000000000BD8C320>,\n",
       "        <matplotlib.axes._subplots.AxesSubplot object at 0x000000000BDF65F8>],\n",
       "       [<matplotlib.axes._subplots.AxesSubplot object at 0x000000000BDF6630>,\n",
       "        <matplotlib.axes._subplots.AxesSubplot object at 0x000000000BE46A58>,\n",
       "        <matplotlib.axes._subplots.AxesSubplot object at 0x000000000BEF2E10>,\n",
       "        <matplotlib.axes._subplots.AxesSubplot object at 0x000000000BF223C8>],\n",
       "       [<matplotlib.axes._subplots.AxesSubplot object at 0x000000000BF48940>,\n",
       "        <matplotlib.axes._subplots.AxesSubplot object at 0x000000000BF75EB8>,\n",
       "        <matplotlib.axes._subplots.AxesSubplot object at 0x000000000BFA4470>,\n",
       "        <matplotlib.axes._subplots.AxesSubplot object at 0x000000000BFCB9E8>]],\n",
       "      dtype=object)"
      ]
     },
     "execution_count": 8,
     "metadata": {},
     "output_type": "execute_result"
    },
    {
     "data": {
      "image/png": "[encoded data removed]",
      "text/plain": [
       "<Figure size 864x576 with 16 Axes>"
      ]
     },
     "metadata": {
      "needs_background": "light"
     },
     "output_type": "display_data"
    }
   ],
   "source": [
    "pd.plotting.scatter_matrix(dataset,figsize=(12,8))"
   ]
  },
  {
   "cell_type": "markdown",
   "metadata": {},
   "source": [
    "## Replacing Null-Values with the median"
   ]
  },
  {
   "cell_type": "code",
   "execution_count": 9,
   "metadata": {},
   "outputs": [],
   "source": [
    "median = dataset.median()\n",
    "dataset = dataset.fillna(median)"
   ]
  },
  {
   "cell_type": "code",
   "execution_count": 10,
   "metadata": {},
   "outputs": [
    {
     "name": "stdout",
     "output_type": "stream",
     "text": [
      "<class 'pandas.core.frame.DataFrame'>\n",
      "RangeIndex: 50 entries, 0 to 49\n",
      "Data columns (total 5 columns):\n",
      "R&D Spend          50 non-null float64\n",
      "Administration     50 non-null float64\n",
      "Marketing Spend    50 non-null float64\n",
      "State              50 non-null object\n",
      "Profit             50 non-null float64\n",
      "dtypes: float64(4), object(1)\n",
      "memory usage: 2.0+ KB\n"
     ]
    }
   ],
   "source": [
    "dataset.info()"
   ]
  },
  {
   "cell_type": "markdown",
   "metadata": {},
   "source": [
    "## Splitting Dataset into X & Y"
   ]
  },
  {
   "cell_type": "code",
   "execution_count": 11,
   "metadata": {},
   "outputs": [],
   "source": [
    "X = dataset.iloc[:, :-1]\n",
    "Y = dataset.iloc[:, -1]"
   ]
  },
  {
   "cell_type": "markdown",
   "metadata": {},
   "source": [
    "## Encoding Categorical Data"
   ]
  },
  {
   "cell_type": "code",
   "execution_count": 12,
   "metadata": {},
   "outputs": [
    {
     "data": {
      "text/html": [
       "<div>\n",
       "<style scoped>\n",
       "    .dataframe tbody tr th:only-of-type {\n",
       "        vertical-align: middle;\n",
       "    }\n",
       "\n",
       "    .dataframe tbody tr th {\n",
       "        vertical-align: top;\n",
       "    }\n",
       "\n",
       "    .dataframe thead th {\n",
       "        text-align: right;\n",
       "    }\n",
       "</style>\n",
       "<table border=\"1\" class=\"dataframe\">\n",
       "  <thead>\n",
       "    <tr style=\"text-align: right;\">\n",
       "      <th></th>\n",
       "      <th>R&amp;D Spend</th>\n",
       "      <th>Administration</th>\n",
       "      <th>Marketing Spend</th>\n",
       "      <th>State</th>\n",
       "    </tr>\n",
       "  </thead>\n",
       "  <tbody>\n",
       "    <tr>\n",
       "      <th>0</th>\n",
       "      <td>165349.20</td>\n",
       "      <td>136897.80</td>\n",
       "      <td>471784.10</td>\n",
       "      <td>2</td>\n",
       "    </tr>\n",
       "    <tr>\n",
       "      <th>1</th>\n",
       "      <td>162597.70</td>\n",
       "      <td>151377.59</td>\n",
       "      <td>443898.53</td>\n",
       "      <td>0</td>\n",
       "    </tr>\n",
       "    <tr>\n",
       "      <th>2</th>\n",
       "      <td>153441.51</td>\n",
       "      <td>101145.55</td>\n",
       "      <td>407934.54</td>\n",
       "      <td>1</td>\n",
       "    </tr>\n",
       "    <tr>\n",
       "      <th>3</th>\n",
       "      <td>144372.41</td>\n",
       "      <td>118671.85</td>\n",
       "      <td>383199.62</td>\n",
       "      <td>2</td>\n",
       "    </tr>\n",
       "    <tr>\n",
       "      <th>4</th>\n",
       "      <td>142107.34</td>\n",
       "      <td>91391.77</td>\n",
       "      <td>366168.42</td>\n",
       "      <td>1</td>\n",
       "    </tr>\n",
       "  </tbody>\n",
       "</table>\n",
       "</div>"
      ],
      "text/plain": [
       "   R&D Spend  Administration  Marketing Spend  State\n",
       "0  165349.20       136897.80        471784.10      2\n",
       "1  162597.70       151377.59        443898.53      0\n",
       "2  153441.51       101145.55        407934.54      1\n",
       "3  144372.41       118671.85        383199.62      2\n",
       "4  142107.34        91391.77        366168.42      1"
      ]
     },
     "execution_count": 12,
     "metadata": {},
     "output_type": "execute_result"
    }
   ],
   "source": [
    "# Firstly, we encode the Column\n",
    "LE = LabelEncoder()\n",
    "X.State = LE.fit_transform(X.State)\n",
    "X.head()"
   ]
  },
  {
   "cell_type": "code",
   "execution_count": 13,
   "metadata": {},
   "outputs": [
    {
     "data": {
      "text/plain": [
       "array(['California', 'Florida', 'New York'], dtype=object)"
      ]
     },
     "execution_count": 13,
     "metadata": {},
     "output_type": "execute_result"
    }
   ],
   "source": [
    "LE.classes_"
   ]
  },
  {
   "cell_type": "code",
   "execution_count": 14,
   "metadata": {},
   "outputs": [
    {
     "data": {
      "text/plain": [
       "(array(['California'], dtype=object),\n",
       " array(['Florida'], dtype=object),\n",
       " array(['New York'], dtype=object))"
      ]
     },
     "execution_count": 14,
     "metadata": {},
     "output_type": "execute_result"
    }
   ],
   "source": [
    "LE.inverse_transform([0]), LE.inverse_transform([1]), LE.inverse_transform([2])"
   ]
  },
  {
   "cell_type": "code",
   "execution_count": 15,
   "metadata": {},
   "outputs": [
    {
     "name": "stderr",
     "output_type": "stream",
     "text": [
      "C:\\ProgramData\\Anaconda3\\lib\\site-packages\\sklearn\\preprocessing\\_encoders.py:368: FutureWarning: The handling of integer data will change in version 0.22. Currently, the categories are determined based on the range [0, max(values)], while in the future they will be determined based on the unique values.\n",
      "If you want the future behaviour and silence this warning, you can specify \"categories='auto'\".\n",
      "In case you used a LabelEncoder before this OneHotEncoder to convert the categories to integers, then you can now use the OneHotEncoder directly.\n",
      "  warnings.warn(msg, FutureWarning)\n",
      "C:\\ProgramData\\Anaconda3\\lib\\site-packages\\sklearn\\preprocessing\\_encoders.py:390: DeprecationWarning: The 'categorical_features' keyword is deprecated in version 0.20 and will be removed in 0.22. You can use the ColumnTransformer instead.\n",
      "  \"use the ColumnTransformer instead.\", DeprecationWarning)\n"
     ]
    },
    {
     "data": {
      "text/plain": [
       "array([[0.0000000e+00, 0.0000000e+00, 1.0000000e+00, 1.6534920e+05,\n",
       "        1.3689780e+05, 4.7178410e+05],\n",
       "       [1.0000000e+00, 0.0000000e+00, 0.0000000e+00, 1.6259770e+05,\n",
       "        1.5137759e+05, 4.4389853e+05],\n",
       "       [0.0000000e+00, 1.0000000e+00, 0.0000000e+00, 1.5344151e+05,\n",
       "        1.0114555e+05, 4.0793454e+05],\n",
       "       [0.0000000e+00, 0.0000000e+00, 1.0000000e+00, 1.4437241e+05,\n",
       "        1.1867185e+05, 3.8319962e+05],\n",
       "       [0.0000000e+00, 1.0000000e+00, 0.0000000e+00, 1.4210734e+05,\n",
       "        9.1391770e+04, 3.6616842e+05],\n",
       "       [0.0000000e+00, 0.0000000e+00, 1.0000000e+00, 1.3187690e+05,\n",
       "        9.9814710e+04, 3.6286136e+05],\n",
       "       [1.0000000e+00, 0.0000000e+00, 0.0000000e+00, 1.3461546e+05,\n",
       "        1.4719887e+05, 1.2771682e+05],\n",
       "       [0.0000000e+00, 1.0000000e+00, 0.0000000e+00, 1.3029813e+05,\n",
       "        1.4553006e+05, 3.2387668e+05],\n",
       "       [0.0000000e+00, 0.0000000e+00, 1.0000000e+00, 1.2054252e+05,\n",
       "        1.4871895e+05, 3.1161329e+05],\n",
       "       [1.0000000e+00, 0.0000000e+00, 0.0000000e+00, 1.2333488e+05,\n",
       "        1.0867917e+05, 3.0498162e+05],\n",
       "       [0.0000000e+00, 1.0000000e+00, 0.0000000e+00, 1.0191308e+05,\n",
       "        1.1059411e+05, 2.2916095e+05],\n",
       "       [1.0000000e+00, 0.0000000e+00, 0.0000000e+00, 1.0067196e+05,\n",
       "        9.1790610e+04, 2.4974455e+05],\n",
       "       [0.0000000e+00, 1.0000000e+00, 0.0000000e+00, 9.3863750e+04,\n",
       "        1.2732038e+05, 2.4983944e+05],\n",
       "       [1.0000000e+00, 0.0000000e+00, 0.0000000e+00, 9.1992390e+04,\n",
       "        1.3549507e+05, 2.5266493e+05],\n",
       "       [0.0000000e+00, 1.0000000e+00, 0.0000000e+00, 1.1994324e+05,\n",
       "        1.5654742e+05, 2.5651292e+05],\n",
       "       [0.0000000e+00, 0.0000000e+00, 1.0000000e+00, 1.1452361e+05,\n",
       "        1.2261684e+05, 2.6177623e+05],\n",
       "       [1.0000000e+00, 0.0000000e+00, 0.0000000e+00, 7.8013110e+04,\n",
       "        1.2159755e+05, 2.6434606e+05],\n",
       "       [0.0000000e+00, 0.0000000e+00, 1.0000000e+00, 9.4657160e+04,\n",
       "        1.4507758e+05, 2.8257431e+05],\n",
       "       [0.0000000e+00, 1.0000000e+00, 0.0000000e+00, 9.1749160e+04,\n",
       "        1.1417579e+05, 2.9491957e+05],\n",
       "       [0.0000000e+00, 0.0000000e+00, 1.0000000e+00, 8.6419700e+04,\n",
       "        1.5351411e+05, 2.1463481e+05],\n",
       "       [1.0000000e+00, 0.0000000e+00, 0.0000000e+00, 7.6253860e+04,\n",
       "        1.1386730e+05, 2.9866447e+05],\n",
       "       [0.0000000e+00, 0.0000000e+00, 1.0000000e+00, 7.8389470e+04,\n",
       "        1.5377343e+05, 2.9973729e+05],\n",
       "       [0.0000000e+00, 1.0000000e+00, 0.0000000e+00, 7.3994560e+04,\n",
       "        1.2261684e+05, 3.0331926e+05],\n",
       "       [0.0000000e+00, 1.0000000e+00, 0.0000000e+00, 6.7532530e+04,\n",
       "        1.0575103e+05, 3.0476873e+05],\n",
       "       [0.0000000e+00, 0.0000000e+00, 1.0000000e+00, 7.7044010e+04,\n",
       "        9.9281340e+04, 1.4057481e+05],\n",
       "       [1.0000000e+00, 0.0000000e+00, 0.0000000e+00, 6.4664710e+04,\n",
       "        1.3955316e+05, 1.3796262e+05],\n",
       "       [0.0000000e+00, 1.0000000e+00, 0.0000000e+00, 7.5328870e+04,\n",
       "        1.4413598e+05, 1.3405007e+05],\n",
       "       [0.0000000e+00, 0.0000000e+00, 1.0000000e+00, 7.2107600e+04,\n",
       "        1.2786455e+05, 3.5318381e+05],\n",
       "       [0.0000000e+00, 1.0000000e+00, 0.0000000e+00, 6.6051520e+04,\n",
       "        1.8264556e+05, 1.1814820e+05],\n",
       "       [0.0000000e+00, 0.0000000e+00, 1.0000000e+00, 6.5605480e+04,\n",
       "        1.5303206e+05, 1.0713838e+05],\n",
       "       [0.0000000e+00, 1.0000000e+00, 0.0000000e+00, 6.1994480e+04,\n",
       "        1.1564128e+05, 9.1131240e+04],\n",
       "       [0.0000000e+00, 0.0000000e+00, 1.0000000e+00, 6.1136380e+04,\n",
       "        1.5270192e+05, 8.8218230e+04],\n",
       "       [1.0000000e+00, 0.0000000e+00, 0.0000000e+00, 6.3408860e+04,\n",
       "        1.2921961e+05, 4.6085250e+04],\n",
       "       [0.0000000e+00, 1.0000000e+00, 0.0000000e+00, 7.3994560e+04,\n",
       "        1.0305749e+05, 2.1463481e+05],\n",
       "       [1.0000000e+00, 0.0000000e+00, 0.0000000e+00, 4.6426070e+04,\n",
       "        1.5769392e+05, 2.1079767e+05],\n",
       "       [0.0000000e+00, 0.0000000e+00, 1.0000000e+00, 4.6014020e+04,\n",
       "        8.5047440e+04, 2.0551764e+05],\n",
       "       [0.0000000e+00, 1.0000000e+00, 0.0000000e+00, 2.8663760e+04,\n",
       "        1.2705621e+05, 2.0112682e+05],\n",
       "       [1.0000000e+00, 0.0000000e+00, 0.0000000e+00, 4.4069950e+04,\n",
       "        5.1283140e+04, 1.9702942e+05],\n",
       "       [0.0000000e+00, 0.0000000e+00, 1.0000000e+00, 2.0229590e+04,\n",
       "        6.5947930e+04, 1.8526510e+05],\n",
       "       [1.0000000e+00, 0.0000000e+00, 0.0000000e+00, 3.8558510e+04,\n",
       "        8.2982090e+04, 1.7499930e+05],\n",
       "       [1.0000000e+00, 0.0000000e+00, 0.0000000e+00, 2.8754330e+04,\n",
       "        1.1854605e+05, 1.7279567e+05],\n",
       "       [0.0000000e+00, 1.0000000e+00, 0.0000000e+00, 2.7892920e+04,\n",
       "        8.4710770e+04, 1.6447071e+05],\n",
       "       [1.0000000e+00, 0.0000000e+00, 0.0000000e+00, 2.3640930e+04,\n",
       "        9.6189630e+04, 1.4800111e+05],\n",
       "       [0.0000000e+00, 0.0000000e+00, 1.0000000e+00, 1.5505730e+04,\n",
       "        1.2738230e+05, 3.5534170e+04],\n",
       "       [1.0000000e+00, 0.0000000e+00, 0.0000000e+00, 2.2177740e+04,\n",
       "        1.5480614e+05, 2.8334720e+04],\n",
       "       [0.0000000e+00, 0.0000000e+00, 1.0000000e+00, 1.0002300e+03,\n",
       "        1.2415304e+05, 1.9039300e+03],\n",
       "       [0.0000000e+00, 1.0000000e+00, 0.0000000e+00, 1.3154600e+03,\n",
       "        1.1581621e+05, 2.9711446e+05],\n",
       "       [1.0000000e+00, 0.0000000e+00, 0.0000000e+00, 0.0000000e+00,\n",
       "        1.3542692e+05, 0.0000000e+00],\n",
       "       [0.0000000e+00, 0.0000000e+00, 1.0000000e+00, 5.4205000e+02,\n",
       "        5.1743150e+04, 0.0000000e+00],\n",
       "       [1.0000000e+00, 0.0000000e+00, 0.0000000e+00, 0.0000000e+00,\n",
       "        1.1698380e+05, 4.5173060e+04]])"
      ]
     },
     "execution_count": 15,
     "metadata": {},
     "output_type": "execute_result"
    }
   ],
   "source": [
    "OHE = OneHotEncoder(categorical_features = [3])\n",
    "X = OHE.fit_transform(X).toarray()\n",
    "X"
   ]
  },
  {
   "cell_type": "code",
   "execution_count": 16,
   "metadata": {},
   "outputs": [],
   "source": [
    "X = X.astype(int)\n",
    "Y = Y.astype(int)"
   ]
  },
  {
   "cell_type": "code",
   "execution_count": 17,
   "metadata": {},
   "outputs": [
    {
     "data": {
      "text/plain": [
       "array([[     0,      1, 165349, 136897, 471784],\n",
       "       [     0,      0, 162597, 151377, 443898],\n",
       "       [     1,      0, 153441, 101145, 407934],\n",
       "       [     0,      1, 144372, 118671, 383199],\n",
       "       [     1,      0, 142107,  91391, 366168],\n",
       "       [     0,      1, 131876,  99814, 362861],\n",
       "       [     0,      0, 134615, 147198, 127716],\n",
       "       [     1,      0, 130298, 145530, 323876],\n",
       "       [     0,      1, 120542, 148718, 311613],\n",
       "       [     0,      0, 123334, 108679, 304981],\n",
       "       [     1,      0, 101913, 110594, 229160],\n",
       "       [     0,      0, 100671,  91790, 249744],\n",
       "       [     1,      0,  93863, 127320, 249839],\n",
       "       [     0,      0,  91992, 135495, 252664],\n",
       "       [     1,      0, 119943, 156547, 256512],\n",
       "       [     0,      1, 114523, 122616, 261776],\n",
       "       [     0,      0,  78013, 121597, 264346],\n",
       "       [     0,      1,  94657, 145077, 282574],\n",
       "       [     1,      0,  91749, 114175, 294919],\n",
       "       [     0,      1,  86419, 153514, 214634],\n",
       "       [     0,      0,  76253, 113867, 298664],\n",
       "       [     0,      1,  78389, 153773, 299737],\n",
       "       [     1,      0,  73994, 122616, 303319],\n",
       "       [     1,      0,  67532, 105751, 304768],\n",
       "       [     0,      1,  77044,  99281, 140574],\n",
       "       [     0,      0,  64664, 139553, 137962],\n",
       "       [     1,      0,  75328, 144135, 134050],\n",
       "       [     0,      1,  72107, 127864, 353183],\n",
       "       [     1,      0,  66051, 182645, 118148],\n",
       "       [     0,      1,  65605, 153032, 107138],\n",
       "       [     1,      0,  61994, 115641,  91131],\n",
       "       [     0,      1,  61136, 152701,  88218],\n",
       "       [     0,      0,  63408, 129219,  46085],\n",
       "       [     1,      0,  73994, 103057, 214634],\n",
       "       [     0,      0,  46426, 157693, 210797],\n",
       "       [     0,      1,  46014,  85047, 205517],\n",
       "       [     1,      0,  28663, 127056, 201126],\n",
       "       [     0,      0,  44069,  51283, 197029],\n",
       "       [     0,      1,  20229,  65947, 185265],\n",
       "       [     0,      0,  38558,  82982, 174999],\n",
       "       [     0,      0,  28754, 118546, 172795],\n",
       "       [     1,      0,  27892,  84710, 164470],\n",
       "       [     0,      0,  23640,  96189, 148001],\n",
       "       [     0,      1,  15505, 127382,  35534],\n",
       "       [     0,      0,  22177, 154806,  28334],\n",
       "       [     0,      1,   1000, 124153,   1903],\n",
       "       [     1,      0,   1315, 115816, 297114],\n",
       "       [     0,      0,      0, 135426,      0],\n",
       "       [     0,      1,    542,  51743,      0],\n",
       "       [     0,      0,      0, 116983,  45173]])"
      ]
     },
     "execution_count": 17,
     "metadata": {},
     "output_type": "execute_result"
    }
   ],
   "source": [
    "X = X[:, 1:]\n",
    "X"
   ]
  },
  {
   "cell_type": "markdown",
   "metadata": {},
   "source": [
    "# Linear Model With NO Edition"
   ]
  },
  {
   "cell_type": "code",
   "execution_count": 18,
   "metadata": {},
   "outputs": [],
   "source": [
    "X1, Y1 = X.copy(), Y.copy()"
   ]
  },
  {
   "cell_type": "code",
   "execution_count": 19,
   "metadata": {},
   "outputs": [
    {
     "data": {
      "text/plain": [
       "{'whiskers': [<matplotlib.lines.Line2D at 0xc1ffd68>,\n",
       "  <matplotlib.lines.Line2D at 0xc203390>,\n",
       "  <matplotlib.lines.Line2D at 0xc20e780>,\n",
       "  <matplotlib.lines.Line2D at 0xc20eac8>,\n",
       "  <matplotlib.lines.Line2D at 0xc219eb8>,\n",
       "  <matplotlib.lines.Line2D at 0xc219f98>,\n",
       "  <matplotlib.lines.Line2D at 0xc22c630>,\n",
       "  <matplotlib.lines.Line2D at 0xc22c978>,\n",
       "  <matplotlib.lines.Line2D at 0xc237d68>,\n",
       "  <matplotlib.lines.Line2D at 0xc237e48>],\n",
       " 'caps': [<matplotlib.lines.Line2D at 0xc2036d8>,\n",
       "  <matplotlib.lines.Line2D at 0xc203a20>,\n",
       "  <matplotlib.lines.Line2D at 0xc20ee10>,\n",
       "  <matplotlib.lines.Line2D at 0xc20eef0>,\n",
       "  <matplotlib.lines.Line2D at 0xc223588>,\n",
       "  <matplotlib.lines.Line2D at 0xc2238d0>,\n",
       "  <matplotlib.lines.Line2D at 0xc22ccc0>,\n",
       "  <matplotlib.lines.Line2D at 0xc22cda0>,\n",
       "  <matplotlib.lines.Line2D at 0xc242438>,\n",
       "  <matplotlib.lines.Line2D at 0xc242780>],\n",
       " 'boxes': [<matplotlib.lines.Line2D at 0xc1ffc18>,\n",
       "  <matplotlib.lines.Line2D at 0xc20e400>,\n",
       "  <matplotlib.lines.Line2D at 0xc219b38>,\n",
       "  <matplotlib.lines.Line2D at 0xc22c2b0>,\n",
       "  <matplotlib.lines.Line2D at 0xc2379e8>],\n",
       " 'medians': [<matplotlib.lines.Line2D at 0xc203d68>,\n",
       "  <matplotlib.lines.Line2D at 0xc2194e0>,\n",
       "  <matplotlib.lines.Line2D at 0xc223c18>,\n",
       "  <matplotlib.lines.Line2D at 0xc237390>,\n",
       "  <matplotlib.lines.Line2D at 0xc242ac8>],\n",
       " 'fliers': [<matplotlib.lines.Line2D at 0xc203e48>,\n",
       "  <matplotlib.lines.Line2D at 0xc219828>,\n",
       "  <matplotlib.lines.Line2D at 0xc223f60>,\n",
       "  <matplotlib.lines.Line2D at 0xc2376d8>,\n",
       "  <matplotlib.lines.Line2D at 0xc242e10>],\n",
       " 'means': []}"
      ]
     },
     "execution_count": 19,
     "metadata": {},
     "output_type": "execute_result"
    },
    {
     "data": {
      "image/png": "[encoded data removed]",
      "text/plain": [
       "<Figure size 432x288 with 1 Axes>"
      ]
     },
     "metadata": {
      "needs_background": "light"
     },
     "output_type": "display_data"
    }
   ],
   "source": [
    "plt.boxplot(X1)\n",
    "#boxplot before normalizing"
   ]
  },
  {
   "cell_type": "code",
   "execution_count": 20,
   "metadata": {},
   "outputs": [
    {
     "data": {
      "text/plain": [
       "LinearRegression(copy_X=True, fit_intercept=True, n_jobs=None,\n",
       "         normalize=False)"
      ]
     },
     "execution_count": 20,
     "metadata": {},
     "output_type": "execute_result"
    }
   ],
   "source": [
    "regressor1 = LinearRegression()\n",
    "regressor1.fit(X1,Y1)"
   ]
  },
  {
   "cell_type": "code",
   "execution_count": 21,
   "metadata": {},
   "outputs": [],
   "source": [
    "Y_hat1 = regressor1.predict(X1)"
   ]
  },
  {
   "cell_type": "code",
   "execution_count": 22,
   "metadata": {},
   "outputs": [],
   "source": [
    "intercept1, coef1 = regressor1.intercept_, regressor1.coef_"
   ]
  },
  {
   "cell_type": "code",
   "execution_count": 23,
   "metadata": {},
   "outputs": [
    {
     "name": "stdout",
     "output_type": "stream",
     "text": [
      "Intercept:  48716.72024640226 \n",
      " Coef:  [-9.74760732e+02 -4.82830489e+02  7.90147864e-01 -1.86475844e-02\n",
      "  3.47915489e-02]\n"
     ]
    }
   ],
   "source": [
    "print('Intercept: ', intercept1, '\\n', 'Coef: ', coef1 )"
   ]
  },
  {
   "cell_type": "code",
   "execution_count": 24,
   "metadata": {},
   "outputs": [
    {
     "data": {
      "text/plain": [
       "(6589.347070004357, 81985091.69343527, 9054.561927196437, 0.9485048888883865)"
      ]
     },
     "execution_count": 24,
     "metadata": {},
     "output_type": "execute_result"
    }
   ],
   "source": [
    "mae1, mse1, rmse1, R21  = mae(Y1, Y_hat1), mse(Y1, Y_hat1),math.sqrt(mse(Y1, Y_hat1)), r2(Y1, Y_hat1)\n",
    "mae1, mse1,rmse1, R21 "
   ]
  },
  {
   "cell_type": "code",
   "execution_count": 25,
   "metadata": {},
   "outputs": [
    {
     "data": {
      "text/plain": [
       "0.9426531717166122"
      ]
     },
     "execution_count": 25,
     "metadata": {},
     "output_type": "execute_result"
    }
   ],
   "source": [
    "r21adj = AdjR(R21, X1.shape[1], X1.shape[0])\n",
    "r21adj"
   ]
  },
  {
   "cell_type": "code",
   "execution_count": 26,
   "metadata": {},
   "outputs": [
    {
     "name": "stdout",
     "output_type": "stream",
     "text": [
      "MSE:  81985091.69343527 \n",
      " RMSE: 9054.561927196437 \n",
      "MAE:  6589.347070004357 \n",
      "R^2: 0.9485048888883865\n"
     ]
    }
   ],
   "source": [
    "print('MSE: ', mse1,'\\n','RMSE:', rmse1,'\\n' 'MAE: ', mae1,'\\n' 'R^2:' ,R21)"
   ]
  },
  {
   "cell_type": "markdown",
   "metadata": {},
   "source": [
    "## Linear-Model with Range Scaling"
   ]
  },
  {
   "cell_type": "code",
   "execution_count": 59,
   "metadata": {},
   "outputs": [],
   "source": [
    "X2, Y2 = X.copy(), Y.copy()"
   ]
  },
  {
   "cell_type": "code",
   "execution_count": 60,
   "metadata": {},
   "outputs": [
    {
     "data": {
      "text/plain": [
       "{'whiskers': [<matplotlib.lines.Line2D at 0xca44ef0>,\n",
       "  <matplotlib.lines.Line2D at 0xca50fd0>,\n",
       "  <matplotlib.lines.Line2D at 0xca5e668>,\n",
       "  <matplotlib.lines.Line2D at 0xca5e9b0>,\n",
       "  <matplotlib.lines.Line2D at 0xca69da0>,\n",
       "  <matplotlib.lines.Line2D at 0xca69e80>,\n",
       "  <matplotlib.lines.Line2D at 0xca7d518>,\n",
       "  <matplotlib.lines.Line2D at 0xca7d860>,\n",
       "  <matplotlib.lines.Line2D at 0xca87c50>,\n",
       "  <matplotlib.lines.Line2D at 0xca87f98>],\n",
       " 'caps': [<matplotlib.lines.Line2D at 0xca545c0>,\n",
       "  <matplotlib.lines.Line2D at 0xca54908>,\n",
       "  <matplotlib.lines.Line2D at 0xca5ecf8>,\n",
       "  <matplotlib.lines.Line2D at 0xca5edd8>,\n",
       "  <matplotlib.lines.Line2D at 0xca74470>,\n",
       "  <matplotlib.lines.Line2D at 0xca747b8>,\n",
       "  <matplotlib.lines.Line2D at 0xca7dba8>,\n",
       "  <matplotlib.lines.Line2D at 0xca7def0>,\n",
       "  <matplotlib.lines.Line2D at 0xca92320>,\n",
       "  <matplotlib.lines.Line2D at 0xca92668>],\n",
       " 'boxes': [<matplotlib.lines.Line2D at 0xca50b00>,\n",
       "  <matplotlib.lines.Line2D at 0xca5e2e8>,\n",
       "  <matplotlib.lines.Line2D at 0xca69a20>,\n",
       "  <matplotlib.lines.Line2D at 0xca74ef0>,\n",
       "  <matplotlib.lines.Line2D at 0xca878d0>],\n",
       " 'medians': [<matplotlib.lines.Line2D at 0xca54c50>,\n",
       "  <matplotlib.lines.Line2D at 0xca693c8>,\n",
       "  <matplotlib.lines.Line2D at 0xca74b00>,\n",
       "  <matplotlib.lines.Line2D at 0xca7dfd0>,\n",
       "  <matplotlib.lines.Line2D at 0xca929b0>],\n",
       " 'fliers': [<matplotlib.lines.Line2D at 0xca54f98>,\n",
       "  <matplotlib.lines.Line2D at 0xca69710>,\n",
       "  <matplotlib.lines.Line2D at 0xca74e48>,\n",
       "  <matplotlib.lines.Line2D at 0xca875c0>,\n",
       "  <matplotlib.lines.Line2D at 0xca92cf8>],\n",
       " 'means': []}"
      ]
     },
     "execution_count": 60,
     "metadata": {},
     "output_type": "execute_result"
    },
    {
     "data": {
      "image/png": "[encoded data removed]",
      "text/plain": [
       "<Figure size 432x288 with 1 Axes>"
      ]
     },
     "metadata": {
      "needs_background": "light"
     },
     "output_type": "display_data"
    }
   ],
   "source": [
    "plt.boxplot(X)\n",
    "#boxplot before normalizing"
   ]
  },
  {
   "cell_type": "code",
   "execution_count": 61,
   "metadata": {},
   "outputs": [
    {
     "name": "stderr",
     "output_type": "stream",
     "text": [
      "C:\\ProgramData\\Anaconda3\\lib\\site-packages\\sklearn\\utils\\validation.py:595: DataConversionWarning: Data with input dtype int32 was converted to float64.\n",
      "  warnings.warn(msg, DataConversionWarning)\n",
      "C:\\ProgramData\\Anaconda3\\lib\\site-packages\\sklearn\\utils\\validation.py:595: DataConversionWarning: Data with input dtype int32 was converted to float64.\n",
      "  warnings.warn(msg, DataConversionWarning)\n"
     ]
    }
   ],
   "source": [
    "X2 = minmax_scale(X2)\n",
    "Y2 = minmax_scale(Y2)"
   ]
  },
  {
   "cell_type": "code",
   "execution_count": 62,
   "metadata": {},
   "outputs": [
    {
     "data": {
      "text/plain": [
       "{'whiskers': [<matplotlib.lines.Line2D at 0xcae6e80>,\n",
       "  <matplotlib.lines.Line2D at 0xcaf0f60>,\n",
       "  <matplotlib.lines.Line2D at 0xcaff5f8>,\n",
       "  <matplotlib.lines.Line2D at 0xcaff940>,\n",
       "  <matplotlib.lines.Line2D at 0xcb08d30>,\n",
       "  <matplotlib.lines.Line2D at 0xcb08e10>,\n",
       "  <matplotlib.lines.Line2D at 0xcb1e4a8>,\n",
       "  <matplotlib.lines.Line2D at 0xcb1e7f0>,\n",
       "  <matplotlib.lines.Line2D at 0xcb28be0>,\n",
       "  <matplotlib.lines.Line2D at 0xcb28f28>],\n",
       " 'caps': [<matplotlib.lines.Line2D at 0xcaf6550>,\n",
       "  <matplotlib.lines.Line2D at 0xcaf6898>,\n",
       "  <matplotlib.lines.Line2D at 0xcaffc88>,\n",
       "  <matplotlib.lines.Line2D at 0xcafffd0>,\n",
       "  <matplotlib.lines.Line2D at 0xcb13400>,\n",
       "  <matplotlib.lines.Line2D at 0xcb13748>,\n",
       "  <matplotlib.lines.Line2D at 0xcb1eb38>,\n",
       "  <matplotlib.lines.Line2D at 0xcb1ee80>,\n",
       "  <matplotlib.lines.Line2D at 0xcb312b0>,\n",
       "  <matplotlib.lines.Line2D at 0xcb315f8>],\n",
       " 'boxes': [<matplotlib.lines.Line2D at 0xcaf0a90>,\n",
       "  <matplotlib.lines.Line2D at 0xcaf6fd0>,\n",
       "  <matplotlib.lines.Line2D at 0xcb089b0>,\n",
       "  <matplotlib.lines.Line2D at 0xcb13e80>,\n",
       "  <matplotlib.lines.Line2D at 0xcb28860>],\n",
       " 'medians': [<matplotlib.lines.Line2D at 0xcaf6be0>,\n",
       "  <matplotlib.lines.Line2D at 0xcb08358>,\n",
       "  <matplotlib.lines.Line2D at 0xcb13a90>,\n",
       "  <matplotlib.lines.Line2D at 0xcb1ef60>,\n",
       "  <matplotlib.lines.Line2D at 0xcb31940>],\n",
       " 'fliers': [<matplotlib.lines.Line2D at 0xcaf6f28>,\n",
       "  <matplotlib.lines.Line2D at 0xcb086a0>,\n",
       "  <matplotlib.lines.Line2D at 0xcb13dd8>,\n",
       "  <matplotlib.lines.Line2D at 0xcb28550>,\n",
       "  <matplotlib.lines.Line2D at 0xcb31c88>],\n",
       " 'means': []}"
      ]
     },
     "execution_count": 62,
     "metadata": {},
     "output_type": "execute_result"
    },
    {
     "data": {
      "image/png": "[encoded data removed]",
      "text/plain": [
       "<Figure size 432x288 with 1 Axes>"
      ]
     },
     "metadata": {
      "needs_background": "light"
     },
     "output_type": "display_data"
    }
   ],
   "source": [
    "plt.boxplot(X2)\n",
    "#boxplot after normalizing"
   ]
  },
  {
   "cell_type": "code",
   "execution_count": 63,
   "metadata": {},
   "outputs": [],
   "source": [
    "regressor2 = LinearRegression()\n",
    "regressor2.fit(X2, Y2)\n",
    "Y_hat2 = regressor2.predict(X2)"
   ]
  },
  {
   "cell_type": "code",
   "execution_count": 64,
   "metadata": {},
   "outputs": [],
   "source": [
    "Y_hat2 = regressor2.predict(X2)"
   ]
  },
  {
   "cell_type": "code",
   "execution_count": 65,
   "metadata": {},
   "outputs": [],
   "source": [
    "intercept2, coef2 = regressor2.intercept_, regressor2.coef_"
   ]
  },
  {
   "cell_type": "code",
   "execution_count": 66,
   "metadata": {},
   "outputs": [
    {
     "name": "stdout",
     "output_type": "stream",
     "text": [
      "Intercept:  0.18627895132035904 \n",
      " Coef:  [-0.00548914 -0.00271895  0.73572564 -0.01379426  0.09243212]\n"
     ]
    }
   ],
   "source": [
    "print('Intercept: ', intercept2, '\\n', 'Coef: ', coef2 )"
   ]
  },
  {
   "cell_type": "code",
   "execution_count": 67,
   "metadata": {},
   "outputs": [
    {
     "data": {
      "text/plain": [
       "(0.03710635809214807,\n",
       " 0.0025998409703121197,\n",
       " 0.05098863569769366,\n",
       " 0.9485048888883865)"
      ]
     },
     "execution_count": 67,
     "metadata": {},
     "output_type": "execute_result"
    }
   ],
   "source": [
    "mae2, mse2, rmse2, R22  = mae(Y2, Y_hat2), mse(Y2, Y_hat2),math.sqrt(mse(Y2, Y_hat2)), r2(Y2, Y_hat2)\n",
    "mae2, mse2,rmse2, R22 "
   ]
  },
  {
   "cell_type": "code",
   "execution_count": 68,
   "metadata": {},
   "outputs": [
    {
     "data": {
      "text/plain": [
       "0.9426531717166122"
      ]
     },
     "execution_count": 68,
     "metadata": {},
     "output_type": "execute_result"
    }
   ],
   "source": [
    "r22adj = AdjR(R22, X2.shape[1], X2.shape[0])\n",
    "r22adj"
   ]
  },
  {
   "cell_type": "code",
   "execution_count": 69,
   "metadata": {},
   "outputs": [
    {
     "name": "stdout",
     "output_type": "stream",
     "text": [
      "MSE:  0.0025998409703121197 \n",
      " RMSE: 0.05098863569769366 \n",
      "MAE:  0.03710635809214807 \n",
      "R^2: 0.9485048888883865\n"
     ]
    }
   ],
   "source": [
    "print('MSE: ', mse2,'\\n','RMSE:', rmse2,'\\n' 'MAE: ', mae2,'\\n' 'R^2:' ,R22)"
   ]
  },
  {
   "cell_type": "markdown",
   "metadata": {},
   "source": [
    "## Linear-Model With Data Normalization on Z-Distribution"
   ]
  },
  {
   "cell_type": "code",
   "execution_count": 70,
   "metadata": {},
   "outputs": [],
   "source": [
    "X3, Y3 = X.copy(), Y.values.reshape((-1, 1)).copy()"
   ]
  },
  {
   "cell_type": "code",
   "execution_count": 71,
   "metadata": {},
   "outputs": [
    {
     "data": {
      "text/plain": [
       "{'whiskers': [<matplotlib.lines.Line2D at 0xdb5e780>,\n",
       "  <matplotlib.lines.Line2D at 0xdb66ac8>,\n",
       "  <matplotlib.lines.Line2D at 0xdb6eeb8>,\n",
       "  <matplotlib.lines.Line2D at 0xdb6ef98>,\n",
       "  <matplotlib.lines.Line2D at 0xdb84630>,\n",
       "  <matplotlib.lines.Line2D at 0xdb84978>,\n",
       "  <matplotlib.lines.Line2D at 0xdb8cd68>,\n",
       "  <matplotlib.lines.Line2D at 0xdb8ce48>,\n",
       "  <matplotlib.lines.Line2D at 0xdba24e0>,\n",
       "  <matplotlib.lines.Line2D at 0xdba2828>],\n",
       " 'caps': [<matplotlib.lines.Line2D at 0xdb66e10>,\n",
       "  <matplotlib.lines.Line2D at 0xdb66ef0>,\n",
       "  <matplotlib.lines.Line2D at 0xdb79588>,\n",
       "  <matplotlib.lines.Line2D at 0xdb798d0>,\n",
       "  <matplotlib.lines.Line2D at 0xdb84cc0>,\n",
       "  <matplotlib.lines.Line2D at 0xdb84da0>,\n",
       "  <matplotlib.lines.Line2D at 0xdb96438>,\n",
       "  <matplotlib.lines.Line2D at 0xdb96780>,\n",
       "  <matplotlib.lines.Line2D at 0xdba2b70>,\n",
       "  <matplotlib.lines.Line2D at 0xdba2eb8>],\n",
       " 'boxes': [<matplotlib.lines.Line2D at 0xdb66390>,\n",
       "  <matplotlib.lines.Line2D at 0xdb6eb38>,\n",
       "  <matplotlib.lines.Line2D at 0xdb842b0>,\n",
       "  <matplotlib.lines.Line2D at 0xdb8c9e8>,\n",
       "  <matplotlib.lines.Line2D at 0xdb96eb8>],\n",
       " 'medians': [<matplotlib.lines.Line2D at 0xdb6e4e0>,\n",
       "  <matplotlib.lines.Line2D at 0xdb79c18>,\n",
       "  <matplotlib.lines.Line2D at 0xdb8c390>,\n",
       "  <matplotlib.lines.Line2D at 0xdb96ac8>,\n",
       "  <matplotlib.lines.Line2D at 0xdba2f98>],\n",
       " 'fliers': [<matplotlib.lines.Line2D at 0xdb6e828>,\n",
       "  <matplotlib.lines.Line2D at 0xdb79f60>,\n",
       "  <matplotlib.lines.Line2D at 0xdb8c6d8>,\n",
       "  <matplotlib.lines.Line2D at 0xdb96e10>,\n",
       "  <matplotlib.lines.Line2D at 0xdbab588>],\n",
       " 'means': []}"
      ]
     },
     "execution_count": 71,
     "metadata": {},
     "output_type": "execute_result"
    },
    {
     "data": {
      "image/png": "[encoded data removed]",
      "text/plain": [
       "<Figure size 432x288 with 1 Axes>"
      ]
     },
     "metadata": {
      "needs_background": "light"
     },
     "output_type": "display_data"
    }
   ],
   "source": [
    "plt.boxplot(X)\n",
    "#boxplot before normalizing"
   ]
  },
  {
   "cell_type": "markdown",
   "metadata": {},
   "source": [
    "### It doesn't make sense to apply the Z-Technique on the categorical encoded data\n",
    "#### so, let's apply ito only on the continuous X & Y Data then concat all the X Columns again"
   ]
  },
  {
   "cell_type": "code",
   "execution_count": 72,
   "metadata": {},
   "outputs": [],
   "source": [
    "X_cat = X3[:,0:2]\n",
    "X_cat = pd.DataFrame(X_cat)"
   ]
  },
  {
   "cell_type": "code",
   "execution_count": 73,
   "metadata": {},
   "outputs": [
    {
     "name": "stderr",
     "output_type": "stream",
     "text": [
      "C:\\ProgramData\\Anaconda3\\lib\\site-packages\\sklearn\\utils\\validation.py:595: DataConversionWarning: Data with input dtype int32 was converted to float64 by StandardScaler.\n",
      "  warnings.warn(msg, DataConversionWarning)\n",
      "C:\\ProgramData\\Anaconda3\\lib\\site-packages\\sklearn\\utils\\validation.py:595: DataConversionWarning: Data with input dtype int32 was converted to float64 by StandardScaler.\n",
      "  warnings.warn(msg, DataConversionWarning)\n",
      "C:\\ProgramData\\Anaconda3\\lib\\site-packages\\sklearn\\utils\\validation.py:595: DataConversionWarning: Data with input dtype int32 was converted to float64 by StandardScaler.\n",
      "  warnings.warn(msg, DataConversionWarning)\n",
      "C:\\ProgramData\\Anaconda3\\lib\\site-packages\\sklearn\\utils\\validation.py:595: DataConversionWarning: Data with input dtype int32 was converted to float64 by StandardScaler.\n",
      "  warnings.warn(msg, DataConversionWarning)\n"
     ]
    }
   ],
   "source": [
    "X_ss = StandardScaler()\n",
    "Y_ss = StandardScaler()\n",
    "X3 = X_ss.fit_transform(X3[:,2:5])\n",
    "Y3 = Y_ss.fit_transform(Y3)\n",
    "X3 = pd.DataFrame(X3)"
   ]
  },
  {
   "cell_type": "code",
   "execution_count": 74,
   "metadata": {},
   "outputs": [],
   "source": [
    "X3 = pd.concat([X3, X_cat], axis = 1 )"
   ]
  },
  {
   "cell_type": "code",
   "execution_count": 75,
   "metadata": {},
   "outputs": [
    {
     "data": {
      "text/plain": [
       "<matplotlib.axes._subplots.AxesSubplot at 0xdbdfdd8>"
      ]
     },
     "execution_count": 75,
     "metadata": {},
     "output_type": "execute_result"
    },
    {
     "data": {
      "image/png": "[encoded data removed]",
      "text/plain": [
       "<Figure size 432x288 with 1 Axes>"
      ]
     },
     "metadata": {
      "needs_background": "light"
     },
     "output_type": "display_data"
    }
   ],
   "source": [
    "X3.boxplot()\n",
    "#boxplot before normalizing"
   ]
  },
  {
   "cell_type": "code",
   "execution_count": 76,
   "metadata": {},
   "outputs": [
    {
     "data": {
      "text/plain": [
       "LinearRegression(copy_X=True, fit_intercept=True, n_jobs=None,\n",
       "         normalize=False)"
      ]
     },
     "execution_count": 76,
     "metadata": {},
     "output_type": "execute_result"
    }
   ],
   "source": [
    "regressor3 = LinearRegression()\n",
    "regressor3.fit(X3, Y3)"
   ]
  },
  {
   "cell_type": "code",
   "execution_count": 77,
   "metadata": {},
   "outputs": [],
   "source": [
    "Y_hat3 = regressor3.predict(X3)"
   ]
  },
  {
   "cell_type": "code",
   "execution_count": 78,
   "metadata": {},
   "outputs": [],
   "source": [
    "intercept3, coef3 = regressor3.intercept_, regressor3.coef_"
   ]
  },
  {
   "cell_type": "code",
   "execution_count": 79,
   "metadata": {},
   "outputs": [
    {
     "name": "stdout",
     "output_type": "stream",
     "text": [
      "Intercept:  [0.01193166] \n",
      " Coef:  [[ 0.89837287 -0.0129623   0.10223356 -0.02442944 -0.01210069]]\n"
     ]
    }
   ],
   "source": [
    "print('Intercept: ', intercept3, '\\n', 'Coef: ', coef3 )"
   ]
  },
  {
   "cell_type": "code",
   "execution_count": 80,
   "metadata": {},
   "outputs": [
    {
     "data": {
      "text/plain": [
       "(0.16514215191826231,\n",
       " 0.05149511111161347,\n",
       " 0.22692534259446095,\n",
       " 0.9485048888883865)"
      ]
     },
     "execution_count": 80,
     "metadata": {},
     "output_type": "execute_result"
    }
   ],
   "source": [
    "mae3, mse3, rmse3, R23  = mae(Y3, Y_hat3), mse(Y3, Y_hat3),math.sqrt(mse(Y3, Y_hat3)), r2(Y3, Y_hat3)\n",
    "mae3, mse3,rmse3, R23 "
   ]
  },
  {
   "cell_type": "code",
   "execution_count": 81,
   "metadata": {},
   "outputs": [
    {
     "data": {
      "text/plain": [
       "0.9426531717166122"
      ]
     },
     "execution_count": 81,
     "metadata": {},
     "output_type": "execute_result"
    }
   ],
   "source": [
    "r23adj = AdjR(R23, X3.shape[1], X3.shape[0])\n",
    "r23adj"
   ]
  },
  {
   "cell_type": "code",
   "execution_count": 82,
   "metadata": {},
   "outputs": [
    {
     "name": "stdout",
     "output_type": "stream",
     "text": [
      "MSE:  0.05149511111161347 \n",
      " RMSE: 0.22692534259446095 \n",
      "MAE:  0.16514215191826231 \n",
      "R^2: 0.9485048888883865\n"
     ]
    }
   ],
   "source": [
    "print('MSE: ', mse3,'\\n','RMSE:', rmse3,'\\n' 'MAE: ', mae3,'\\n' 'R^2:' ,R23)"
   ]
  },
  {
   "cell_type": "markdown",
   "metadata": {},
   "source": [
    "## Linear-Model With Data Normalization on Z-Distribution and Removing Outliers \n",
    "#### IF there are any outlieres "
   ]
  },
  {
   "cell_type": "code",
   "execution_count": 83,
   "metadata": {},
   "outputs": [],
   "source": [
    "X4, Y4= X3.copy(), Y3.copy()\n",
    "X4 = pd.DataFrame(X4)\n",
    "Y4 = pd.DataFrame(Y4)"
   ]
  },
  {
   "cell_type": "code",
   "execution_count": 84,
   "metadata": {},
   "outputs": [
    {
     "data": {
      "text/plain": [
       "<matplotlib.axes._subplots.AxesSubplot at 0xdc5f2b0>"
      ]
     },
     "execution_count": 84,
     "metadata": {},
     "output_type": "execute_result"
    },
    {
     "data": {
      "image/png": "[encoded data removed]",
      "text/plain": [
       "<Figure size 432x288 with 1 Axes>"
      ]
     },
     "metadata": {
      "needs_background": "light"
     },
     "output_type": "display_data"
    }
   ],
   "source": [
    "X4.boxplot()"
   ]
  },
  {
   "cell_type": "code",
   "execution_count": 85,
   "metadata": {},
   "outputs": [
    {
     "data": {
      "text/html": [
       "<div>\n",
       "<style scoped>\n",
       "    .dataframe tbody tr th:only-of-type {\n",
       "        vertical-align: middle;\n",
       "    }\n",
       "\n",
       "    .dataframe tbody tr th {\n",
       "        vertical-align: top;\n",
       "    }\n",
       "\n",
       "    .dataframe thead th {\n",
       "        text-align: right;\n",
       "    }\n",
       "</style>\n",
       "<table border=\"1\" class=\"dataframe\">\n",
       "  <thead>\n",
       "    <tr style=\"text-align: right;\">\n",
       "      <th></th>\n",
       "      <th>0</th>\n",
       "      <th>1</th>\n",
       "      <th>2</th>\n",
       "      <th>0</th>\n",
       "      <th>1</th>\n",
       "      <th>0</th>\n",
       "    </tr>\n",
       "  </thead>\n",
       "  <tbody>\n",
       "    <tr>\n",
       "      <th>0</th>\n",
       "      <td>2.011581</td>\n",
       "      <td>0.560865</td>\n",
       "      <td>2.187393</td>\n",
       "      <td>0</td>\n",
       "      <td>1</td>\n",
       "      <td>2.011197</td>\n",
       "    </tr>\n",
       "    <tr>\n",
       "      <th>1</th>\n",
       "      <td>1.950919</td>\n",
       "      <td>1.082930</td>\n",
       "      <td>1.949554</td>\n",
       "      <td>0</td>\n",
       "      <td>0</td>\n",
       "      <td>1.999443</td>\n",
       "    </tr>\n",
       "    <tr>\n",
       "      <th>2</th>\n",
       "      <td>1.749095</td>\n",
       "      <td>-0.728145</td>\n",
       "      <td>1.642819</td>\n",
       "      <td>1</td>\n",
       "      <td>0</td>\n",
       "      <td>1.980847</td>\n",
       "    </tr>\n",
       "    <tr>\n",
       "      <th>3</th>\n",
       "      <td>1.549189</td>\n",
       "      <td>-0.096259</td>\n",
       "      <td>1.431855</td>\n",
       "      <td>0</td>\n",
       "      <td>1</td>\n",
       "      <td>1.776617</td>\n",
       "    </tr>\n",
       "    <tr>\n",
       "      <th>4</th>\n",
       "      <td>1.499262</td>\n",
       "      <td>-1.079818</td>\n",
       "      <td>1.286599</td>\n",
       "      <td>1</td>\n",
       "      <td>0</td>\n",
       "      <td>1.357731</td>\n",
       "    </tr>\n",
       "  </tbody>\n",
       "</table>\n",
       "</div>"
      ],
      "text/plain": [
       "          0         1         2  0  1         0\n",
       "0  2.011581  0.560865  2.187393  0  1  2.011197\n",
       "1  1.950919  1.082930  1.949554  0  0  1.999443\n",
       "2  1.749095 -0.728145  1.642819  1  0  1.980847\n",
       "3  1.549189 -0.096259  1.431855  0  1  1.776617\n",
       "4  1.499262 -1.079818  1.286599  1  0  1.357731"
      ]
     },
     "execution_count": 85,
     "metadata": {},
     "output_type": "execute_result"
    }
   ],
   "source": [
    "Xnorm, Ynorm = X3.copy(),Y3.copy()\n",
    "Xnorm = pd.DataFrame(Xnorm)\n",
    "Ynorm = pd.DataFrame(Ynorm)\n",
    "dataset_z = pd.concat([Xnorm, Ynorm], axis= 1)\n",
    "dataset_z.head()"
   ]
  },
  {
   "cell_type": "code",
   "execution_count": 86,
   "metadata": {},
   "outputs": [],
   "source": [
    "dataset_z.columns = ['R&D Spend', 'Administration', 'Marketing Spend', '0', '1', 'Profit' ]"
   ]
  },
  {
   "cell_type": "code",
   "execution_count": 87,
   "metadata": {},
   "outputs": [
    {
     "data": {
      "text/html": [
       "<div>\n",
       "<style scoped>\n",
       "    .dataframe tbody tr th:only-of-type {\n",
       "        vertical-align: middle;\n",
       "    }\n",
       "\n",
       "    .dataframe tbody tr th {\n",
       "        vertical-align: top;\n",
       "    }\n",
       "\n",
       "    .dataframe thead th {\n",
       "        text-align: right;\n",
       "    }\n",
       "</style>\n",
       "<table border=\"1\" class=\"dataframe\">\n",
       "  <thead>\n",
       "    <tr style=\"text-align: right;\">\n",
       "      <th></th>\n",
       "      <th>R&amp;D Spend</th>\n",
       "      <th>Administration</th>\n",
       "      <th>Marketing Spend</th>\n",
       "      <th>0</th>\n",
       "      <th>1</th>\n",
       "      <th>Profit</th>\n",
       "    </tr>\n",
       "  </thead>\n",
       "  <tbody>\n",
       "    <tr>\n",
       "      <th>0</th>\n",
       "      <td>2.011581</td>\n",
       "      <td>0.560865</td>\n",
       "      <td>2.187393</td>\n",
       "      <td>0</td>\n",
       "      <td>1</td>\n",
       "      <td>2.011197</td>\n",
       "    </tr>\n",
       "    <tr>\n",
       "      <th>1</th>\n",
       "      <td>1.950919</td>\n",
       "      <td>1.082930</td>\n",
       "      <td>1.949554</td>\n",
       "      <td>0</td>\n",
       "      <td>0</td>\n",
       "      <td>1.999443</td>\n",
       "    </tr>\n",
       "    <tr>\n",
       "      <th>2</th>\n",
       "      <td>1.749095</td>\n",
       "      <td>-0.728145</td>\n",
       "      <td>1.642819</td>\n",
       "      <td>1</td>\n",
       "      <td>0</td>\n",
       "      <td>1.980847</td>\n",
       "    </tr>\n",
       "    <tr>\n",
       "      <th>3</th>\n",
       "      <td>1.549189</td>\n",
       "      <td>-0.096259</td>\n",
       "      <td>1.431855</td>\n",
       "      <td>0</td>\n",
       "      <td>1</td>\n",
       "      <td>1.776617</td>\n",
       "    </tr>\n",
       "    <tr>\n",
       "      <th>4</th>\n",
       "      <td>1.499262</td>\n",
       "      <td>-1.079818</td>\n",
       "      <td>1.286599</td>\n",
       "      <td>1</td>\n",
       "      <td>0</td>\n",
       "      <td>1.357731</td>\n",
       "    </tr>\n",
       "  </tbody>\n",
       "</table>\n",
       "</div>"
      ],
      "text/plain": [
       "   R&D Spend  Administration  Marketing Spend  0  1    Profit\n",
       "0   2.011581        0.560865         2.187393  0  1  2.011197\n",
       "1   1.950919        1.082930         1.949554  0  0  1.999443\n",
       "2   1.749095       -0.728145         1.642819  1  0  1.980847\n",
       "3   1.549189       -0.096259         1.431855  0  1  1.776617\n",
       "4   1.499262       -1.079818         1.286599  1  0  1.357731"
      ]
     },
     "execution_count": 87,
     "metadata": {},
     "output_type": "execute_result"
    }
   ],
   "source": [
    "dataset_z.head()"
   ]
  },
  {
   "cell_type": "code",
   "execution_count": 88,
   "metadata": {},
   "outputs": [],
   "source": [
    "dataset_z[dataset_z > 3] = 3\n",
    "dataset_z[dataset_z < -3] = -3\n",
    "X4 = dataset_z.iloc[:, :-1]\n",
    "Y4 = dataset_z.iloc[:, -1].values.reshape((-1, 1))"
   ]
  },
  {
   "cell_type": "code",
   "execution_count": 89,
   "metadata": {},
   "outputs": [
    {
     "data": {
      "text/plain": [
       "LinearRegression(copy_X=True, fit_intercept=True, n_jobs=None,\n",
       "         normalize=False)"
      ]
     },
     "execution_count": 89,
     "metadata": {},
     "output_type": "execute_result"
    }
   ],
   "source": [
    "regressor4 = LinearRegression()\n",
    "regressor4.fit(X4, Y4)"
   ]
  },
  {
   "cell_type": "code",
   "execution_count": 90,
   "metadata": {},
   "outputs": [],
   "source": [
    "Y_hat4 = regressor4.predict(X4)"
   ]
  },
  {
   "cell_type": "code",
   "execution_count": 91,
   "metadata": {},
   "outputs": [],
   "source": [
    "intercept4, coef4 = regressor4.intercept_, regressor4.coef_"
   ]
  },
  {
   "cell_type": "code",
   "execution_count": 92,
   "metadata": {},
   "outputs": [
    {
     "name": "stdout",
     "output_type": "stream",
     "text": [
      "Intercept:  [0.01193166] \n",
      " Coef:  [[ 0.89837287 -0.0129623   0.10223356 -0.02442944 -0.01210069]]\n"
     ]
    }
   ],
   "source": [
    "print('Intercept: ', intercept4, '\\n', 'Coef: ', coef4 )"
   ]
  },
  {
   "cell_type": "code",
   "execution_count": 93,
   "metadata": {},
   "outputs": [
    {
     "data": {
      "text/plain": [
       "(0.16514215191826231,\n",
       " 0.05149511111161347,\n",
       " 0.22692534259446095,\n",
       " 0.9485048888883865)"
      ]
     },
     "execution_count": 93,
     "metadata": {},
     "output_type": "execute_result"
    }
   ],
   "source": [
    "mae4, mse4, rmse4, R24  = mae(Y4, Y_hat4), mse(Y4, Y_hat4),math.sqrt(mse(Y4, Y_hat4)), r2(Y4, Y_hat4)\n",
    "mae4, mse4,rmse4, R24 "
   ]
  },
  {
   "cell_type": "code",
   "execution_count": 94,
   "metadata": {},
   "outputs": [
    {
     "data": {
      "text/plain": [
       "0.9426531717166122"
      ]
     },
     "execution_count": 94,
     "metadata": {},
     "output_type": "execute_result"
    }
   ],
   "source": [
    "r24adj = AdjR(R24, X4.shape[1], X4.shape[0])\n",
    "r24adj"
   ]
  },
  {
   "cell_type": "code",
   "execution_count": 95,
   "metadata": {},
   "outputs": [
    {
     "name": "stdout",
     "output_type": "stream",
     "text": [
      "MSE:  0.05149511111161347 \n",
      " RMSE: 0.22692534259446095 \n",
      "MAE:  0.16514215191826231 \n",
      "R^2: 0.9485048888883865\n"
     ]
    }
   ],
   "source": [
    "print('MSE: ', mse4,'\\n','RMSE:', rmse4,'\\n' 'MAE: ', mae4,'\\n' 'R^2:' ,R24)"
   ]
  },
  {
   "cell_type": "markdown",
   "metadata": {},
   "source": [
    "## Models Evaluation"
   ]
  },
  {
   "cell_type": "code",
   "execution_count": 96,
   "metadata": {},
   "outputs": [],
   "source": [
    "Model_eval = pd.DataFrame([['Model1', mae1, mse1, rmse1, R21]\n",
    "                          , ['Range Scaling',mae2, mse2, rmse2, R22]\n",
    "                          , ['Z Distributed with outliers', mae3, mse3, rmse3, R23]\n",
    "                          ,['Z Distributed without outliers', mae4, mse4, rmse4, R24]]\n",
    "                        ,columns=['Model', 'MAE', 'MSE','RMSE', 'R Squared'])"
   ]
  },
  {
   "cell_type": "code",
   "execution_count": 97,
   "metadata": {},
   "outputs": [
    {
     "data": {
      "text/html": [
       "<div>\n",
       "<style scoped>\n",
       "    .dataframe tbody tr th:only-of-type {\n",
       "        vertical-align: middle;\n",
       "    }\n",
       "\n",
       "    .dataframe tbody tr th {\n",
       "        vertical-align: top;\n",
       "    }\n",
       "\n",
       "    .dataframe thead th {\n",
       "        text-align: right;\n",
       "    }\n",
       "</style>\n",
       "<table border=\"1\" class=\"dataframe\">\n",
       "  <thead>\n",
       "    <tr style=\"text-align: right;\">\n",
       "      <th></th>\n",
       "      <th>Model</th>\n",
       "      <th>MAE</th>\n",
       "      <th>MSE</th>\n",
       "      <th>RMSE</th>\n",
       "      <th>R Squared</th>\n",
       "    </tr>\n",
       "  </thead>\n",
       "  <tbody>\n",
       "    <tr>\n",
       "      <th>0</th>\n",
       "      <td>Model1</td>\n",
       "      <td>6589.347070</td>\n",
       "      <td>8.198509e+07</td>\n",
       "      <td>9054.561927</td>\n",
       "      <td>0.948505</td>\n",
       "    </tr>\n",
       "    <tr>\n",
       "      <th>1</th>\n",
       "      <td>Range Scaling</td>\n",
       "      <td>0.037106</td>\n",
       "      <td>2.599841e-03</td>\n",
       "      <td>0.050989</td>\n",
       "      <td>0.948505</td>\n",
       "    </tr>\n",
       "    <tr>\n",
       "      <th>2</th>\n",
       "      <td>Z Distributed with outliers</td>\n",
       "      <td>0.165142</td>\n",
       "      <td>5.149511e-02</td>\n",
       "      <td>0.226925</td>\n",
       "      <td>0.948505</td>\n",
       "    </tr>\n",
       "    <tr>\n",
       "      <th>3</th>\n",
       "      <td>Z Distributed without outliers</td>\n",
       "      <td>0.165142</td>\n",
       "      <td>5.149511e-02</td>\n",
       "      <td>0.226925</td>\n",
       "      <td>0.948505</td>\n",
       "    </tr>\n",
       "  </tbody>\n",
       "</table>\n",
       "</div>"
      ],
      "text/plain": [
       "                            Model          MAE           MSE         RMSE  \\\n",
       "0                          Model1  6589.347070  8.198509e+07  9054.561927   \n",
       "1                   Range Scaling     0.037106  2.599841e-03     0.050989   \n",
       "2     Z Distributed with outliers     0.165142  5.149511e-02     0.226925   \n",
       "3  Z Distributed without outliers     0.165142  5.149511e-02     0.226925   \n",
       "\n",
       "   R Squared  \n",
       "0   0.948505  \n",
       "1   0.948505  \n",
       "2   0.948505  \n",
       "3   0.948505  "
      ]
     },
     "execution_count": 97,
     "metadata": {},
     "output_type": "execute_result"
    }
   ],
   "source": [
    "Model_eval"
   ]
  },
  {
   "cell_type": "markdown",
   "metadata": {},
   "source": [
    "## Add new random column"
   ]
  },
  {
   "cell_type": "code",
   "execution_count": 98,
   "metadata": {},
   "outputs": [],
   "source": [
    "df_rand = dataset.copy()"
   ]
  },
  {
   "cell_type": "code",
   "execution_count": 99,
   "metadata": {},
   "outputs": [],
   "source": [
    "df_rand['Random'] = np.random.randint(1, 6, df_rand.shape[0])"
   ]
  },
  {
   "cell_type": "code",
   "execution_count": 100,
   "metadata": {},
   "outputs": [
    {
     "data": {
      "text/html": [
       "<div>\n",
       "<style scoped>\n",
       "    .dataframe tbody tr th:only-of-type {\n",
       "        vertical-align: middle;\n",
       "    }\n",
       "\n",
       "    .dataframe tbody tr th {\n",
       "        vertical-align: top;\n",
       "    }\n",
       "\n",
       "    .dataframe thead th {\n",
       "        text-align: right;\n",
       "    }\n",
       "</style>\n",
       "<table border=\"1\" class=\"dataframe\">\n",
       "  <thead>\n",
       "    <tr style=\"text-align: right;\">\n",
       "      <th></th>\n",
       "      <th>R&amp;D Spend</th>\n",
       "      <th>Administration</th>\n",
       "      <th>Marketing Spend</th>\n",
       "      <th>State</th>\n",
       "      <th>Profit</th>\n",
       "      <th>Random</th>\n",
       "    </tr>\n",
       "  </thead>\n",
       "  <tbody>\n",
       "    <tr>\n",
       "      <th>0</th>\n",
       "      <td>165349.20</td>\n",
       "      <td>136897.80</td>\n",
       "      <td>471784.10</td>\n",
       "      <td>New York</td>\n",
       "      <td>192261.83</td>\n",
       "      <td>3</td>\n",
       "    </tr>\n",
       "    <tr>\n",
       "      <th>1</th>\n",
       "      <td>162597.70</td>\n",
       "      <td>151377.59</td>\n",
       "      <td>443898.53</td>\n",
       "      <td>California</td>\n",
       "      <td>191792.06</td>\n",
       "      <td>1</td>\n",
       "    </tr>\n",
       "    <tr>\n",
       "      <th>2</th>\n",
       "      <td>153441.51</td>\n",
       "      <td>101145.55</td>\n",
       "      <td>407934.54</td>\n",
       "      <td>Florida</td>\n",
       "      <td>191050.39</td>\n",
       "      <td>2</td>\n",
       "    </tr>\n",
       "    <tr>\n",
       "      <th>3</th>\n",
       "      <td>144372.41</td>\n",
       "      <td>118671.85</td>\n",
       "      <td>383199.62</td>\n",
       "      <td>New York</td>\n",
       "      <td>182901.99</td>\n",
       "      <td>3</td>\n",
       "    </tr>\n",
       "    <tr>\n",
       "      <th>4</th>\n",
       "      <td>142107.34</td>\n",
       "      <td>91391.77</td>\n",
       "      <td>366168.42</td>\n",
       "      <td>Florida</td>\n",
       "      <td>166187.94</td>\n",
       "      <td>2</td>\n",
       "    </tr>\n",
       "  </tbody>\n",
       "</table>\n",
       "</div>"
      ],
      "text/plain": [
       "   R&D Spend  Administration  Marketing Spend       State     Profit  Random\n",
       "0  165349.20       136897.80        471784.10    New York  192261.83       3\n",
       "1  162597.70       151377.59        443898.53  California  191792.06       1\n",
       "2  153441.51       101145.55        407934.54     Florida  191050.39       2\n",
       "3  144372.41       118671.85        383199.62    New York  182901.99       3\n",
       "4  142107.34        91391.77        366168.42     Florida  166187.94       2"
      ]
     },
     "execution_count": 100,
     "metadata": {},
     "output_type": "execute_result"
    }
   ],
   "source": [
    "df_rand.head()"
   ]
  },
  {
   "cell_type": "code",
   "execution_count": 101,
   "metadata": {},
   "outputs": [],
   "source": [
    "median = df_rand.median()\n",
    "df_rand = df_rand.fillna(median)"
   ]
  },
  {
   "cell_type": "code",
   "execution_count": 102,
   "metadata": {},
   "outputs": [
    {
     "name": "stderr",
     "output_type": "stream",
     "text": [
      "C:\\ProgramData\\Anaconda3\\lib\\site-packages\\pandas\\core\\generic.py:4405: SettingWithCopyWarning: \n",
      "A value is trying to be set on a copy of a slice from a DataFrame.\n",
      "Try using .loc[row_indexer,col_indexer] = value instead\n",
      "\n",
      "See the caveats in the documentation: http://pandas.pydata.org/pandas-docs/stable/indexing.html#indexing-view-versus-copy\n",
      "  self[name] = value\n",
      "C:\\ProgramData\\Anaconda3\\lib\\site-packages\\sklearn\\preprocessing\\_encoders.py:368: FutureWarning: The handling of integer data will change in version 0.22. Currently, the categories are determined based on the range [0, max(values)], while in the future they will be determined based on the unique values.\n",
      "If you want the future behaviour and silence this warning, you can specify \"categories='auto'\".\n",
      "In case you used a LabelEncoder before this OneHotEncoder to convert the categories to integers, then you can now use the OneHotEncoder directly.\n",
      "  warnings.warn(msg, FutureWarning)\n",
      "C:\\ProgramData\\Anaconda3\\lib\\site-packages\\sklearn\\preprocessing\\_encoders.py:390: DeprecationWarning: The 'categorical_features' keyword is deprecated in version 0.20 and will be removed in 0.22. You can use the ColumnTransformer instead.\n",
      "  \"use the ColumnTransformer instead.\", DeprecationWarning)\n"
     ]
    }
   ],
   "source": [
    "X_rand = df_rand[['R&D Spend', 'Administration', 'Marketing Spend', 'State', 'Random']]\n",
    "Y_rand = df_rand['Profit']\n",
    "LE_rand = LabelEncoder()\n",
    "X_rand.State = LE_rand.fit_transform(X_rand.State)\n",
    "OHE_rand = OneHotEncoder(categorical_features = [3])\n",
    "X_rand = OHE_rand.fit_transform(X_rand).toarray()\n"
   ]
  },
  {
   "cell_type": "code",
   "execution_count": 103,
   "metadata": {},
   "outputs": [
    {
     "data": {
      "text/plain": [
       "array([[     0,      1, 165349, 136897, 471784,      3],\n",
       "       [     0,      0, 162597, 151377, 443898,      1],\n",
       "       [     1,      0, 153441, 101145, 407934,      2],\n",
       "       [     0,      1, 144372, 118671, 383199,      3],\n",
       "       [     1,      0, 142107,  91391, 366168,      2],\n",
       "       [     0,      1, 131876,  99814, 362861,      5],\n",
       "       [     0,      0, 134615, 147198, 127716,      5],\n",
       "       [     1,      0, 130298, 145530, 323876,      3],\n",
       "       [     0,      1, 120542, 148718, 311613,      5],\n",
       "       [     0,      0, 123334, 108679, 304981,      3],\n",
       "       [     1,      0, 101913, 110594, 229160,      3],\n",
       "       [     0,      0, 100671,  91790, 249744,      5],\n",
       "       [     1,      0,  93863, 127320, 249839,      4],\n",
       "       [     0,      0,  91992, 135495, 252664,      2],\n",
       "       [     1,      0, 119943, 156547, 256512,      2],\n",
       "       [     0,      1, 114523, 122616, 261776,      1],\n",
       "       [     0,      0,  78013, 121597, 264346,      3],\n",
       "       [     0,      1,  94657, 145077, 282574,      2],\n",
       "       [     1,      0,  91749, 114175, 294919,      4],\n",
       "       [     0,      1,  86419, 153514, 214634,      2],\n",
       "       [     0,      0,  76253, 113867, 298664,      3],\n",
       "       [     0,      1,  78389, 153773, 299737,      2],\n",
       "       [     1,      0,  73994, 122616, 303319,      5],\n",
       "       [     1,      0,  67532, 105751, 304768,      1],\n",
       "       [     0,      1,  77044,  99281, 140574,      1],\n",
       "       [     0,      0,  64664, 139553, 137962,      5],\n",
       "       [     1,      0,  75328, 144135, 134050,      5],\n",
       "       [     0,      1,  72107, 127864, 353183,      1],\n",
       "       [     1,      0,  66051, 182645, 118148,      5],\n",
       "       [     0,      1,  65605, 153032, 107138,      4],\n",
       "       [     1,      0,  61994, 115641,  91131,      3],\n",
       "       [     0,      1,  61136, 152701,  88218,      5],\n",
       "       [     0,      0,  63408, 129219,  46085,      4],\n",
       "       [     1,      0,  73994, 103057, 214634,      2],\n",
       "       [     0,      0,  46426, 157693, 210797,      1],\n",
       "       [     0,      1,  46014,  85047, 205517,      5],\n",
       "       [     1,      0,  28663, 127056, 201126,      5],\n",
       "       [     0,      0,  44069,  51283, 197029,      2],\n",
       "       [     0,      1,  20229,  65947, 185265,      4],\n",
       "       [     0,      0,  38558,  82982, 174999,      3],\n",
       "       [     0,      0,  28754, 118546, 172795,      4],\n",
       "       [     1,      0,  27892,  84710, 164470,      2],\n",
       "       [     0,      0,  23640,  96189, 148001,      2],\n",
       "       [     0,      1,  15505, 127382,  35534,      5],\n",
       "       [     0,      0,  22177, 154806,  28334,      2],\n",
       "       [     0,      1,   1000, 124153,   1903,      3],\n",
       "       [     1,      0,   1315, 115816, 297114,      2],\n",
       "       [     0,      0,      0, 135426,      0,      1],\n",
       "       [     0,      1,    542,  51743,      0,      2],\n",
       "       [     0,      0,      0, 116983,  45173,      2]])"
      ]
     },
     "execution_count": 103,
     "metadata": {},
     "output_type": "execute_result"
    }
   ],
   "source": [
    "X_rand = X_rand.astype(int)\n",
    "Y_rand = Y_rand.astype(int)\n",
    "X_rand = X_rand[:, 1:]\n",
    "X_rand"
   ]
  },
  {
   "cell_type": "code",
   "execution_count": 104,
   "metadata": {},
   "outputs": [],
   "source": [
    "X1_rand, Y1_rand = X_rand.copy(), Y_rand.copy()"
   ]
  },
  {
   "cell_type": "code",
   "execution_count": 105,
   "metadata": {},
   "outputs": [
    {
     "name": "stdout",
     "output_type": "stream",
     "text": [
      "Intercept:  41476.25628876583 \n",
      " Coef:  [-2.11897203e+03 -1.38122809e+03  7.65955081e-01 -2.33785227e-02\n",
      "  4.72568896e-02  2.51476486e+03]\n",
      "MSE:  70806899.32941459 \n",
      " RMSE: 8414.683554918425 \n",
      "MAE:  6379.01542602554 \n",
      "R^2: 0.955525949009471\n"
     ]
    }
   ],
   "source": [
    "regressor1_rand = LinearRegression()\n",
    "regressor1_rand.fit(X1_rand,Y1_rand)\n",
    "Y_hat1_rand = regressor1_rand.predict(X1_rand)\n",
    "intercept1_rand, coef1_rand = regressor1_rand.intercept_, regressor1_rand.coef_\n",
    "print('Intercept: ', intercept1_rand, '\\n', 'Coef: ', coef1_rand )\n",
    "mae1_rand, mse1_rand, rmse1_rand, R21_rand  = mae(Y1_rand, Y_hat1_rand), mse(Y1_rand, Y_hat1_rand),math.sqrt(mse(Y1_rand, Y_hat1_rand)), r2(Y1_rand, Y_hat1_rand)\n",
    "\n",
    "print('MSE: ', mse1_rand,'\\n','RMSE:', rmse1_rand,'\\n' 'MAE: ', mae1_rand,'\\n' 'R^2:' ,R21_rand)"
   ]
  },
  {
   "cell_type": "code",
   "execution_count": 106,
   "metadata": {},
   "outputs": [
    {
     "data": {
      "text/plain": [
       "0.9493202674759088"
      ]
     },
     "execution_count": 106,
     "metadata": {},
     "output_type": "execute_result"
    }
   ],
   "source": [
    "r25adj = AdjR(R21_rand, X1_rand.shape[1], X1_rand.shape[0])\n",
    "r25adj"
   ]
  },
  {
   "cell_type": "code",
   "execution_count": 107,
   "metadata": {},
   "outputs": [],
   "source": [
    "Model_eval = pd.DataFrame([['Model1', mae1, mse1, rmse1, R21, r25adj]\n",
    "                          , ['Range Scaling',mae2, mse2, rmse2, R22, r25adj]\n",
    "                          , ['Z Distributed with outliers', mae3, mse3, rmse3, R23, r25adj]\n",
    "                          ,['Z Distributed without outliers', mae4, mse4, rmse4, R24, r25adj]\n",
    "                          ,['Adding Random Column', mae1_rand, mse1_rand, rmse1_rand, R21_rand, r25adj]]\n",
    "                          ,columns=['Model', 'MAE', 'MSE','RMSE', 'R Squared', 'Adjusted R Squared'])"
   ]
  },
  {
   "cell_type": "code",
   "execution_count": 108,
   "metadata": {},
   "outputs": [
    {
     "data": {
      "text/html": [
       "<div>\n",
       "<style scoped>\n",
       "    .dataframe tbody tr th:only-of-type {\n",
       "        vertical-align: middle;\n",
       "    }\n",
       "\n",
       "    .dataframe tbody tr th {\n",
       "        vertical-align: top;\n",
       "    }\n",
       "\n",
       "    .dataframe thead th {\n",
       "        text-align: right;\n",
       "    }\n",
       "</style>\n",
       "<table border=\"1\" class=\"dataframe\">\n",
       "  <thead>\n",
       "    <tr style=\"text-align: right;\">\n",
       "      <th></th>\n",
       "      <th>Model</th>\n",
       "      <th>MAE</th>\n",
       "      <th>MSE</th>\n",
       "      <th>RMSE</th>\n",
       "      <th>R Squared</th>\n",
       "      <th>Adjusted R Squared</th>\n",
       "    </tr>\n",
       "  </thead>\n",
       "  <tbody>\n",
       "    <tr>\n",
       "      <th>0</th>\n",
       "      <td>Model1</td>\n",
       "      <td>6589.347070</td>\n",
       "      <td>8.198509e+07</td>\n",
       "      <td>9054.561927</td>\n",
       "      <td>0.948505</td>\n",
       "      <td>0.94932</td>\n",
       "    </tr>\n",
       "    <tr>\n",
       "      <th>1</th>\n",
       "      <td>Range Scaling</td>\n",
       "      <td>0.037106</td>\n",
       "      <td>2.599841e-03</td>\n",
       "      <td>0.050989</td>\n",
       "      <td>0.948505</td>\n",
       "      <td>0.94932</td>\n",
       "    </tr>\n",
       "    <tr>\n",
       "      <th>2</th>\n",
       "      <td>Z Distributed with outliers</td>\n",
       "      <td>0.165142</td>\n",
       "      <td>5.149511e-02</td>\n",
       "      <td>0.226925</td>\n",
       "      <td>0.948505</td>\n",
       "      <td>0.94932</td>\n",
       "    </tr>\n",
       "    <tr>\n",
       "      <th>3</th>\n",
       "      <td>Z Distributed without outliers</td>\n",
       "      <td>0.165142</td>\n",
       "      <td>5.149511e-02</td>\n",
       "      <td>0.226925</td>\n",
       "      <td>0.948505</td>\n",
       "      <td>0.94932</td>\n",
       "    </tr>\n",
       "    <tr>\n",
       "      <th>4</th>\n",
       "      <td>Adding Random Column</td>\n",
       "      <td>6379.015426</td>\n",
       "      <td>7.080690e+07</td>\n",
       "      <td>8414.683555</td>\n",
       "      <td>0.955526</td>\n",
       "      <td>0.94932</td>\n",
       "    </tr>\n",
       "  </tbody>\n",
       "</table>\n",
       "</div>"
      ],
      "text/plain": [
       "                            Model          MAE           MSE         RMSE  \\\n",
       "0                          Model1  6589.347070  8.198509e+07  9054.561927   \n",
       "1                   Range Scaling     0.037106  2.599841e-03     0.050989   \n",
       "2     Z Distributed with outliers     0.165142  5.149511e-02     0.226925   \n",
       "3  Z Distributed without outliers     0.165142  5.149511e-02     0.226925   \n",
       "4            Adding Random Column  6379.015426  7.080690e+07  8414.683555   \n",
       "\n",
       "   R Squared  Adjusted R Squared  \n",
       "0   0.948505             0.94932  \n",
       "1   0.948505             0.94932  \n",
       "2   0.948505             0.94932  \n",
       "3   0.948505             0.94932  \n",
       "4   0.955526             0.94932  "
      ]
     },
     "execution_count": 108,
     "metadata": {},
     "output_type": "execute_result"
    }
   ],
   "source": [
    "Model_eval"
   ]
  },
  {
   "cell_type": "markdown",
   "metadata": {},
   "source": [
    "##  Which Feature is SC"
   ]
  },
  {
   "cell_type": "markdown",
   "metadata": {},
   "source": [
    "## Sence all R^2 Adjuysted are equal I'm chossing the best pipeline using MSE which would be the  **Range Scaling Model**"
   ]
  },
  {
   "cell_type": "code",
   "execution_count": 162,
   "metadata": {},
   "outputs": [],
   "source": [
    "Xfinal = pd.DataFrame(X)\n",
    "Yfinal = pd.DataFrame(Y)\n",
    "Xfinal.columns = ['state1', 'state2', 'R&D Spend', 'Administration', 'Marketing Spend']"
   ]
  },
  {
   "cell_type": "code",
   "execution_count": 163,
   "metadata": {},
   "outputs": [
    {
     "data": {
      "text/html": [
       "<div>\n",
       "<style scoped>\n",
       "    .dataframe tbody tr th:only-of-type {\n",
       "        vertical-align: middle;\n",
       "    }\n",
       "\n",
       "    .dataframe tbody tr th {\n",
       "        vertical-align: top;\n",
       "    }\n",
       "\n",
       "    .dataframe thead th {\n",
       "        text-align: right;\n",
       "    }\n",
       "</style>\n",
       "<table border=\"1\" class=\"dataframe\">\n",
       "  <thead>\n",
       "    <tr style=\"text-align: right;\">\n",
       "      <th></th>\n",
       "      <th>state1</th>\n",
       "      <th>state2</th>\n",
       "      <th>R&amp;D Spend</th>\n",
       "      <th>Administration</th>\n",
       "      <th>Marketing Spend</th>\n",
       "      <th>rand1</th>\n",
       "      <th>rand2</th>\n",
       "    </tr>\n",
       "  </thead>\n",
       "  <tbody>\n",
       "    <tr>\n",
       "      <th>0</th>\n",
       "      <td>0</td>\n",
       "      <td>1</td>\n",
       "      <td>165349</td>\n",
       "      <td>136897</td>\n",
       "      <td>471784</td>\n",
       "      <td>66</td>\n",
       "      <td>301</td>\n",
       "    </tr>\n",
       "    <tr>\n",
       "      <th>1</th>\n",
       "      <td>0</td>\n",
       "      <td>0</td>\n",
       "      <td>162597</td>\n",
       "      <td>151377</td>\n",
       "      <td>443898</td>\n",
       "      <td>10</td>\n",
       "      <td>365</td>\n",
       "    </tr>\n",
       "    <tr>\n",
       "      <th>2</th>\n",
       "      <td>1</td>\n",
       "      <td>0</td>\n",
       "      <td>153441</td>\n",
       "      <td>101145</td>\n",
       "      <td>407934</td>\n",
       "      <td>8</td>\n",
       "      <td>226</td>\n",
       "    </tr>\n",
       "    <tr>\n",
       "      <th>3</th>\n",
       "      <td>0</td>\n",
       "      <td>1</td>\n",
       "      <td>144372</td>\n",
       "      <td>118671</td>\n",
       "      <td>383199</td>\n",
       "      <td>461</td>\n",
       "      <td>426</td>\n",
       "    </tr>\n",
       "    <tr>\n",
       "      <th>4</th>\n",
       "      <td>1</td>\n",
       "      <td>0</td>\n",
       "      <td>142107</td>\n",
       "      <td>91391</td>\n",
       "      <td>366168</td>\n",
       "      <td>804</td>\n",
       "      <td>102</td>\n",
       "    </tr>\n",
       "  </tbody>\n",
       "</table>\n",
       "</div>"
      ],
      "text/plain": [
       "   state1  state2  R&D Spend  Administration  Marketing Spend  rand1  rand2\n",
       "0       0       1     165349          136897           471784     66    301\n",
       "1       0       0     162597          151377           443898     10    365\n",
       "2       1       0     153441          101145           407934      8    226\n",
       "3       0       1     144372          118671           383199    461    426\n",
       "4       1       0     142107           91391           366168    804    102"
      ]
     },
     "execution_count": 163,
     "metadata": {},
     "output_type": "execute_result"
    }
   ],
   "source": [
    "Xfinal['rand1'] = np.random.randint(1, 1000, Xfinal.shape[0])\n",
    "Xfinal['rand2'] = np.random.randint(1, 1000, Xfinal.shape[0])\n",
    "Xfinal.head()"
   ]
  },
  {
   "cell_type": "code",
   "execution_count": 164,
   "metadata": {},
   "outputs": [
    {
     "name": "stderr",
     "output_type": "stream",
     "text": [
      "C:\\ProgramData\\Anaconda3\\lib\\site-packages\\ipykernel_launcher.py:1: DataConversionWarning: Data with input dtype int32 were all converted to float64.\n",
      "  \"\"\"Entry point for launching an IPython kernel.\n",
      "C:\\ProgramData\\Anaconda3\\lib\\site-packages\\ipykernel_launcher.py:2: DataConversionWarning: Data with input dtype int32 were all converted to float64.\n",
      "  \n"
     ]
    }
   ],
   "source": [
    "Xfinal = minmax_scale(Xfinal)\n",
    "Yfinal = minmax_scale(Yfinal)"
   ]
  },
  {
   "cell_type": "code",
   "execution_count": 165,
   "metadata": {},
   "outputs": [
    {
     "data": {
      "text/plain": [
       "{'whiskers': [<matplotlib.lines.Line2D at 0xf76c4e0>,\n",
       "  <matplotlib.lines.Line2D at 0xf788cc0>,\n",
       "  <matplotlib.lines.Line2D at 0xf794e10>,\n",
       "  <matplotlib.lines.Line2D at 0xf26b438>,\n",
       "  <matplotlib.lines.Line2D at 0xf274828>,\n",
       "  <matplotlib.lines.Line2D at 0xf274b70>,\n",
       "  <matplotlib.lines.Line2D at 0xf286f60>,\n",
       "  <matplotlib.lines.Line2D at 0xf29c2e8>,\n",
       "  <matplotlib.lines.Line2D at 0xf36a6d8>,\n",
       "  <matplotlib.lines.Line2D at 0xf36aa20>,\n",
       "  <matplotlib.lines.Line2D at 0xf385e10>,\n",
       "  <matplotlib.lines.Line2D at 0xf385ef0>,\n",
       "  <matplotlib.lines.Line2D at 0xf570588>,\n",
       "  <matplotlib.lines.Line2D at 0xf5708d0>],\n",
       " 'caps': [<matplotlib.lines.Line2D at 0xf788da0>,\n",
       "  <matplotlib.lines.Line2D at 0xf794390>,\n",
       "  <matplotlib.lines.Line2D at 0xf26b780>,\n",
       "  <matplotlib.lines.Line2D at 0xf26bac8>,\n",
       "  <matplotlib.lines.Line2D at 0xf274eb8>,\n",
       "  <matplotlib.lines.Line2D at 0xf274f98>,\n",
       "  <matplotlib.lines.Line2D at 0xf29c630>,\n",
       "  <matplotlib.lines.Line2D at 0xf29c978>,\n",
       "  <matplotlib.lines.Line2D at 0xf36ad68>,\n",
       "  <matplotlib.lines.Line2D at 0xf36ae48>,\n",
       "  <matplotlib.lines.Line2D at 0xf39a4e0>,\n",
       "  <matplotlib.lines.Line2D at 0xf39a828>,\n",
       "  <matplotlib.lines.Line2D at 0xf570c18>,\n",
       "  <matplotlib.lines.Line2D at 0xf570f60>],\n",
       " 'boxes': [<matplotlib.lines.Line2D at 0xf788588>,\n",
       "  <matplotlib.lines.Line2D at 0xf794d30>,\n",
       "  <matplotlib.lines.Line2D at 0xf2744a8>,\n",
       "  <matplotlib.lines.Line2D at 0xf286be0>,\n",
       "  <matplotlib.lines.Line2D at 0xf36a358>,\n",
       "  <matplotlib.lines.Line2D at 0xf385a90>,\n",
       "  <matplotlib.lines.Line2D at 0xf39af60>],\n",
       " 'medians': [<matplotlib.lines.Line2D at 0xf7946d8>,\n",
       "  <matplotlib.lines.Line2D at 0xf26be10>,\n",
       "  <matplotlib.lines.Line2D at 0xf286588>,\n",
       "  <matplotlib.lines.Line2D at 0xf29ccc0>,\n",
       "  <matplotlib.lines.Line2D at 0xf385438>,\n",
       "  <matplotlib.lines.Line2D at 0xf39ab70>,\n",
       "  <matplotlib.lines.Line2D at 0xf5802e8>],\n",
       " 'fliers': [<matplotlib.lines.Line2D at 0xf794a20>,\n",
       "  <matplotlib.lines.Line2D at 0xf26bef0>,\n",
       "  <matplotlib.lines.Line2D at 0xf2868d0>,\n",
       "  <matplotlib.lines.Line2D at 0xf29cda0>,\n",
       "  <matplotlib.lines.Line2D at 0xf385780>,\n",
       "  <matplotlib.lines.Line2D at 0xf39aeb8>,\n",
       "  <matplotlib.lines.Line2D at 0xf580630>],\n",
       " 'means': []}"
      ]
     },
     "execution_count": 165,
     "metadata": {},
     "output_type": "execute_result"
    },
    {
     "data": {
      "image/png": "[encoded data removed]",
      "text/plain": [
       "<Figure size 432x288 with 1 Axes>"
      ]
     },
     "metadata": {
      "needs_background": "light"
     },
     "output_type": "display_data"
    }
   ],
   "source": [
    "plt.boxplot(Xfinal)"
   ]
  },
  {
   "cell_type": "code",
   "execution_count": 166,
   "metadata": {},
   "outputs": [
    {
     "data": {
      "text/plain": [
       "LinearRegression(copy_X=True, fit_intercept=True, n_jobs=None,\n",
       "         normalize=False)"
      ]
     },
     "execution_count": 166,
     "metadata": {},
     "output_type": "execute_result"
    }
   ],
   "source": [
    "Regressor_Final = LinearRegression()\n",
    "Regressor_Final.fit(Xfinal, Yfinal)"
   ]
  },
  {
   "cell_type": "code",
   "execution_count": 167,
   "metadata": {},
   "outputs": [
    {
     "name": "stdout",
     "output_type": "stream",
     "text": [
      "Intercept:  [0.16907196] \n",
      " Coef:  [[-0.01693772 -0.00297994  0.74219721 -0.01176449  0.10292109  0.04726901\n",
      "  -0.02227147]]\n"
     ]
    }
   ],
   "source": [
    "Y_hat_final = Regressor_Final.predict(Xfinal)\n",
    "intercept_final, coef_final= Regressor_Final.intercept_, Regressor_Final.coef_\n",
    "print('Intercept: ', intercept_final, '\\n', 'Coef: ', coef_final )\n",
    "\n",
    "mae_final, mse_final, rmse_final, R_final  = mae(Yfinal, Y_hat_final), mse(Yfinal, Y_hat_final),math.sqrt(mse(Yfinal, Y_hat_final)), r2(Yfinal, Y_hat_final)\n",
    "R_Adjusted_Final = AdjR(R_final, Xfinal.shape[1], Xfinal.shape[0])\n",
    "\n"
   ]
  },
  {
   "cell_type": "code",
   "execution_count": 168,
   "metadata": {},
   "outputs": [
    {
     "name": "stdout",
     "output_type": "stream",
     "text": [
      "MSE:  0.0023962508893310367 \n",
      " RMSE: 0.048951515700037695 \n",
      "MAE:  0.03554989041603737 \n",
      "R^2: 0.9525374024001974 \n",
      " Adjusted Squared R 0.944626969466897\n"
     ]
    }
   ],
   "source": [
    "print('MSE: ', mse_final,'\\n','RMSE:', rmse_final,'\\n' 'MAE: ', mae_final,'\\n' 'R^2:' ,R_final,'\\n', 'Adjusted Squared R', R_Adjusted_Final)"
   ]
  },
  {
   "cell_type": "code",
   "execution_count": 169,
   "metadata": {},
   "outputs": [],
   "source": [
    "SL = 0.05"
   ]
  },
  {
   "cell_type": "code",
   "execution_count": 170,
   "metadata": {},
   "outputs": [],
   "source": [
    "Xfinal = np.append(arr = np.ones((50, 1)).astype(int), values = Xfinal, axis = 1)"
   ]
  },
  {
   "cell_type": "code",
   "execution_count": 171,
   "metadata": {},
   "outputs": [
    {
     "data": {
      "text/plain": [
       "(50, 8)"
      ]
     },
     "execution_count": 171,
     "metadata": {},
     "output_type": "execute_result"
    }
   ],
   "source": [
    "Xfinal.shape"
   ]
  },
  {
   "cell_type": "code",
   "execution_count": 119,
   "metadata": {},
   "outputs": [],
   "source": [
    "X_opt = Xfinal[:, [0, 1, 2, 3, 4, 5, 6, 7]]"
   ]
  },
  {
   "cell_type": "code",
   "execution_count": 136,
   "metadata": {},
   "outputs": [
    {
     "data": {
      "text/html": [
       "<table class=\"simpletable\">\n",
       "<caption>OLS Regression Results</caption>\n",
       "<tr>\n",
       "  <th>Dep. Variable:</th>            <td>0</td>        <th>  R-squared:         </th> <td>   0.955</td>\n",
       "</tr>\n",
       "<tr>\n",
       "  <th>Model:</th>                   <td>OLS</td>       <th>  Adj. R-squared:    </th> <td>   0.949</td>\n",
       "</tr>\n",
       "<tr>\n",
       "  <th>Method:</th>             <td>Least Squares</td>  <th>  F-statistic:       </th> <td>   152.6</td>\n",
       "</tr>\n",
       "<tr>\n",
       "  <th>Date:</th>             <td>Tue, 16 Apr 2019</td> <th>  Prob (F-statistic):</th> <td>2.49e-27</td>\n",
       "</tr>\n",
       "<tr>\n",
       "  <th>Time:</th>                 <td>19:06:51</td>     <th>  Log-Likelihood:    </th> <td>  81.317</td>\n",
       "</tr>\n",
       "<tr>\n",
       "  <th>No. Observations:</th>      <td>    50</td>      <th>  AIC:               </th> <td>  -148.6</td>\n",
       "</tr>\n",
       "<tr>\n",
       "  <th>Df Residuals:</th>          <td>    43</td>      <th>  BIC:               </th> <td>  -135.3</td>\n",
       "</tr>\n",
       "<tr>\n",
       "  <th>Df Model:</th>              <td>     6</td>      <th>                     </th>     <td> </td>   \n",
       "</tr>\n",
       "<tr>\n",
       "  <th>Covariance Type:</th>      <td>nonrobust</td>    <th>                     </th>     <td> </td>   \n",
       "</tr>\n",
       "</table>\n",
       "<table class=\"simpletable\">\n",
       "<tr>\n",
       "    <td></td>       <th>coef</th>     <th>std err</th>      <th>t</th>      <th>P>|t|</th>  <th>[0.025</th>    <th>0.975]</th>  \n",
       "</tr>\n",
       "<tr>\n",
       "  <th>const</th> <td>    0.1173</td> <td>    0.016</td> <td>    7.419</td> <td> 0.000</td> <td>    0.085</td> <td>    0.149</td>\n",
       "</tr>\n",
       "<tr>\n",
       "  <th>x1</th>    <td>    0.1173</td> <td>    0.016</td> <td>    7.419</td> <td> 0.000</td> <td>    0.085</td> <td>    0.149</td>\n",
       "</tr>\n",
       "<tr>\n",
       "  <th>x2</th>    <td>   -0.0073</td> <td>    0.018</td> <td>   -0.395</td> <td> 0.695</td> <td>   -0.044</td> <td>    0.030</td>\n",
       "</tr>\n",
       "<tr>\n",
       "  <th>x3</th>    <td>    0.0043</td> <td>    0.018</td> <td>    0.242</td> <td> 0.810</td> <td>   -0.032</td> <td>    0.041</td>\n",
       "</tr>\n",
       "<tr>\n",
       "  <th>x4</th>    <td>    0.7245</td> <td>    0.044</td> <td>   16.574</td> <td> 0.000</td> <td>    0.636</td> <td>    0.813</td>\n",
       "</tr>\n",
       "<tr>\n",
       "  <th>x5</th>    <td>   -0.0291</td> <td>    0.037</td> <td>   -0.780</td> <td> 0.440</td> <td>   -0.104</td> <td>    0.046</td>\n",
       "</tr>\n",
       "<tr>\n",
       "  <th>x6</th>    <td>    0.0914</td> <td>    0.047</td> <td>    1.933</td> <td> 0.060</td> <td>   -0.004</td> <td>    0.187</td>\n",
       "</tr>\n",
       "<tr>\n",
       "  <th>x7</th>    <td>   -0.0723</td> <td>    0.029</td> <td>   -2.525</td> <td> 0.015</td> <td>   -0.130</td> <td>   -0.015</td>\n",
       "</tr>\n",
       "</table>\n",
       "<table class=\"simpletable\">\n",
       "<tr>\n",
       "  <th>Omnibus:</th>       <td>12.364</td> <th>  Durbin-Watson:     </th> <td>   1.519</td>\n",
       "</tr>\n",
       "<tr>\n",
       "  <th>Prob(Omnibus):</th> <td> 0.002</td> <th>  Jarque-Bera (JB):  </th> <td>  15.816</td>\n",
       "</tr>\n",
       "<tr>\n",
       "  <th>Skew:</th>          <td>-0.843</td> <th>  Prob(JB):          </th> <td>0.000368</td>\n",
       "</tr>\n",
       "<tr>\n",
       "  <th>Kurtosis:</th>      <td> 5.179</td> <th>  Cond. No.          </th> <td>6.58e+16</td>\n",
       "</tr>\n",
       "</table><br/><br/>Warnings:<br/>[1] Standard Errors assume that the covariance matrix of the errors is correctly specified.<br/>[2] The smallest eigenvalue is 3.7e-32. This might indicate that there are<br/>strong multicollinearity problems or that the design matrix is singular."
      ],
      "text/plain": [
       "<class 'statsmodels.iolib.summary.Summary'>\n",
       "\"\"\"\n",
       "                            OLS Regression Results                            \n",
       "==============================================================================\n",
       "Dep. Variable:                      0   R-squared:                       0.955\n",
       "Model:                            OLS   Adj. R-squared:                  0.949\n",
       "Method:                 Least Squares   F-statistic:                     152.6\n",
       "Date:                Tue, 16 Apr 2019   Prob (F-statistic):           2.49e-27\n",
       "Time:                        19:06:51   Log-Likelihood:                 81.317\n",
       "No. Observations:                  50   AIC:                            -148.6\n",
       "Df Residuals:                      43   BIC:                            -135.3\n",
       "Df Model:                           6                                         \n",
       "Covariance Type:            nonrobust                                         \n",
       "==============================================================================\n",
       "                 coef    std err          t      P>|t|      [0.025      0.975]\n",
       "------------------------------------------------------------------------------\n",
       "const          0.1173      0.016      7.419      0.000       0.085       0.149\n",
       "x1             0.1173      0.016      7.419      0.000       0.085       0.149\n",
       "x2            -0.0073      0.018     -0.395      0.695      -0.044       0.030\n",
       "x3             0.0043      0.018      0.242      0.810      -0.032       0.041\n",
       "x4             0.7245      0.044     16.574      0.000       0.636       0.813\n",
       "x5            -0.0291      0.037     -0.780      0.440      -0.104       0.046\n",
       "x6             0.0914      0.047      1.933      0.060      -0.004       0.187\n",
       "x7            -0.0723      0.029     -2.525      0.015      -0.130      -0.015\n",
       "==============================================================================\n",
       "Omnibus:                       12.364   Durbin-Watson:                   1.519\n",
       "Prob(Omnibus):                  0.002   Jarque-Bera (JB):               15.816\n",
       "Skew:                          -0.843   Prob(JB):                     0.000368\n",
       "Kurtosis:                       5.179   Cond. No.                     6.58e+16\n",
       "==============================================================================\n",
       "\n",
       "Warnings:\n",
       "[1] Standard Errors assume that the covariance matrix of the errors is correctly specified.\n",
       "[2] The smallest eigenvalue is 3.7e-32. This might indicate that there are\n",
       "strong multicollinearity problems or that the design matrix is singular.\n",
       "\"\"\""
      ]
     },
     "execution_count": 136,
     "metadata": {},
     "output_type": "execute_result"
    }
   ],
   "source": [
    "X_opt = Xfinal[:, [0, 1, 2, 3, 4, 5, 6, 7]]\n",
    "regressor_OLS = sm.OLS(endog = Yfinal, exog = X_opt).fit()\n",
    "regressor_OLS.summary()"
   ]
  },
  {
   "cell_type": "code",
   "execution_count": 172,
   "metadata": {},
   "outputs": [
    {
     "data": {
      "text/plain": [
       "const    3.203001e-09\n",
       "x1       3.203001e-09\n",
       "x2       6.945581e-01\n",
       "x3       8.100268e-01\n",
       "x4       2.749846e-20\n",
       "x5       4.395427e-01\n",
       "x6       5.984706e-02\n",
       "x7       1.533461e-02\n",
       "dtype: float64"
      ]
     },
     "execution_count": 172,
     "metadata": {},
     "output_type": "execute_result"
    }
   ],
   "source": [
    "p_values = regressor_OLS.pvalues\n",
    "p_values"
   ]
  },
  {
   "cell_type": "code",
   "execution_count": 173,
   "metadata": {},
   "outputs": [
    {
     "name": "stderr",
     "output_type": "stream",
     "text": [
      "C:\\ProgramData\\Anaconda3\\lib\\site-packages\\numpy\\core\\fromnumeric.py:51: FutureWarning: 'argmax' is deprecated, use 'idxmax' instead. The behavior of 'argmax'\n",
      "will be corrected to return the positional maximum in the future.\n",
      "Use 'series.values.argmax' to get the position of the maximum now.\n",
      "  return getattr(obj, method)(*args, **kwds)\n"
     ]
    },
    {
     "data": {
      "text/plain": [
       "'x3'"
      ]
     },
     "execution_count": 173,
     "metadata": {},
     "output_type": "execute_result"
    }
   ],
   "source": [
    "index = np.argmax(p_values)\n",
    "index"
   ]
  },
  {
   "cell_type": "code",
   "execution_count": 150,
   "metadata": {},
   "outputs": [
    {
     "data": {
      "text/plain": [
       "0.9488972348105125"
      ]
     },
     "execution_count": 150,
     "metadata": {},
     "output_type": "execute_result"
    }
   ],
   "source": [
    "R2_adj = regressor_OLS.rsquared_adj\n",
    "R2_adj"
   ]
  },
  {
   "cell_type": "code",
   "execution_count": 161,
   "metadata": {},
   "outputs": [
    {
     "data": {
      "text/plain": [
       "5"
      ]
     },
     "execution_count": 161,
     "metadata": {},
     "output_type": "execute_result"
    }
   ],
   "source": [
    "k = Xfinal.shape[1]\n",
    "k"
   ]
  },
  {
   "cell_type": "code",
   "execution_count": 152,
   "metadata": {},
   "outputs": [],
   "source": [
    "R2_adj_array = []"
   ]
  },
  {
   "cell_type": "code",
   "execution_count": 153,
   "metadata": {},
   "outputs": [
    {
     "data": {
      "text/plain": [
       "const    3.203001e-09\n",
       "x1       3.203001e-09\n",
       "x2       6.945581e-01\n",
       "x3       8.100268e-01\n",
       "x4       2.749846e-20\n",
       "x5       4.395427e-01\n",
       "x6       5.984706e-02\n",
       "x7       1.533461e-02\n",
       "dtype: float64"
      ]
     },
     "execution_count": 153,
     "metadata": {},
     "output_type": "execute_result"
    }
   ],
   "source": [
    "regressor_OLS.pvalues"
   ]
  },
  {
   "cell_type": "code",
   "execution_count": 154,
   "metadata": {},
   "outputs": [
    {
     "data": {
      "text/html": [
       "<div>\n",
       "<style scoped>\n",
       "    .dataframe tbody tr th:only-of-type {\n",
       "        vertical-align: middle;\n",
       "    }\n",
       "\n",
       "    .dataframe tbody tr th {\n",
       "        vertical-align: top;\n",
       "    }\n",
       "\n",
       "    .dataframe thead th {\n",
       "        text-align: right;\n",
       "    }\n",
       "</style>\n",
       "<table border=\"1\" class=\"dataframe\">\n",
       "  <thead>\n",
       "    <tr style=\"text-align: right;\">\n",
       "      <th></th>\n",
       "      <th>state1</th>\n",
       "      <th>state2</th>\n",
       "      <th>R&amp;D Spend</th>\n",
       "      <th>Administration</th>\n",
       "      <th>Marketing Spend</th>\n",
       "    </tr>\n",
       "  </thead>\n",
       "  <tbody>\n",
       "    <tr>\n",
       "      <th>0</th>\n",
       "      <td>0</td>\n",
       "      <td>1</td>\n",
       "      <td>165349</td>\n",
       "      <td>136897</td>\n",
       "      <td>471784</td>\n",
       "    </tr>\n",
       "    <tr>\n",
       "      <th>1</th>\n",
       "      <td>0</td>\n",
       "      <td>0</td>\n",
       "      <td>162597</td>\n",
       "      <td>151377</td>\n",
       "      <td>443898</td>\n",
       "    </tr>\n",
       "    <tr>\n",
       "      <th>2</th>\n",
       "      <td>1</td>\n",
       "      <td>0</td>\n",
       "      <td>153441</td>\n",
       "      <td>101145</td>\n",
       "      <td>407934</td>\n",
       "    </tr>\n",
       "    <tr>\n",
       "      <th>3</th>\n",
       "      <td>0</td>\n",
       "      <td>1</td>\n",
       "      <td>144372</td>\n",
       "      <td>118671</td>\n",
       "      <td>383199</td>\n",
       "    </tr>\n",
       "    <tr>\n",
       "      <th>4</th>\n",
       "      <td>1</td>\n",
       "      <td>0</td>\n",
       "      <td>142107</td>\n",
       "      <td>91391</td>\n",
       "      <td>366168</td>\n",
       "    </tr>\n",
       "  </tbody>\n",
       "</table>\n",
       "</div>"
      ],
      "text/plain": [
       "   state1  state2  R&D Spend  Administration  Marketing Spend\n",
       "0       0       1     165349          136897           471784\n",
       "1       0       0     162597          151377           443898\n",
       "2       1       0     153441          101145           407934\n",
       "3       0       1     144372          118671           383199\n",
       "4       1       0     142107           91391           366168"
      ]
     },
     "execution_count": 154,
     "metadata": {},
     "output_type": "execute_result"
    }
   ],
   "source": [
    "Xfinal, Yfinal = pd.DataFrame(Xfinal), pd.DataFrame(Yfinal)\n",
    "Xfinal.head()"
   ]
  },
  {
   "cell_type": "markdown",
   "metadata": {},
   "source": [
    "## Automated Column Rejection by P-Value & Adjusted Squared R"
   ]
  },
  {
   "cell_type": "code",
   "execution_count": 177,
   "metadata": {},
   "outputs": [
    {
     "name": "stderr",
     "output_type": "stream",
     "text": [
      "C:\\ProgramData\\Anaconda3\\lib\\site-packages\\ipykernel_launcher.py:7: DataConversionWarning: Data with input dtype int32 were all converted to float64.\n",
      "  import sys\n",
      "C:\\ProgramData\\Anaconda3\\lib\\site-packages\\ipykernel_launcher.py:8: DataConversionWarning: Data with input dtype int32 were all converted to float64.\n",
      "  \n"
     ]
    }
   ],
   "source": [
    "Xfinal = pd.DataFrame(X)\n",
    "Yfinal = pd.DataFrame(Y)\n",
    "Xfinal.columns = ['state1', 'state2', 'R&D Spend', 'Administration', 'Marketing Spend']\n",
    "Xfinal['rand1'] = np.random.randint(1, 1000, Xfinal.shape[0])\n",
    "Xfinal['rand2'] = np.random.randint(1, 1000, Xfinal.shape[0])\n",
    "Xfinal.head()\n",
    "Xfinal = minmax_scale(Xfinal)\n",
    "Yfinal = minmax_scale(Yfinal)\n",
    "Xfinal = np.append(arr = np.ones((50, 1)).astype(int), values = Xfinal, axis = 1)"
   ]
  },
  {
   "cell_type": "code",
   "execution_count": 178,
   "metadata": {},
   "outputs": [
    {
     "data": {
      "text/plain": [
       "(array([[1.        , 1.        , 1.        ],\n",
       "        [1.        , 0.98335642, 0.94089244],\n",
       "        [1.        , 0.92798263, 0.86466264],\n",
       "        [1.        , 0.87313501, 0.81223399],\n",
       "        [1.        , 0.85943671, 0.77613484],\n",
       "        [1.        , 0.79756152, 0.76912528],\n",
       "        [1.        , 0.81412648, 0.27070863],\n",
       "        [1.        , 0.78801807, 0.68649212],\n",
       "        [1.        , 0.7290156 , 0.6604993 ],\n",
       "        [1.        , 0.74590109, 0.64644202],\n",
       "        [1.        , 0.61635087, 0.48573076],\n",
       "        [1.        , 0.60883948, 0.52936089],\n",
       "        [1.        , 0.56766597, 0.52956226],\n",
       "        [1.        , 0.55635051, 0.53555017],\n",
       "        [1.        , 0.72539296, 0.54370644],\n",
       "        [1.        , 0.6926138 , 0.55486409],\n",
       "        [1.        , 0.47180811, 0.5603115 ],\n",
       "        [1.        , 0.57246793, 0.59894782],\n",
       "        [1.        , 0.55488089, 0.62511446],\n",
       "        [1.        , 0.52264604, 0.45494124],\n",
       "        [1.        , 0.46116396, 0.63305241],\n",
       "        [1.        , 0.47408209, 0.63532676],\n",
       "        [1.        , 0.44750195, 0.64291922],\n",
       "        [1.        , 0.40842098, 0.64599054],\n",
       "        [1.        , 0.46594778, 0.29796263],\n",
       "        [1.        , 0.39107585, 0.2924262 ],\n",
       "        [1.        , 0.45556973, 0.28413426],\n",
       "        [1.        , 0.43608973, 0.74861165],\n",
       "        [1.        , 0.39946416, 0.25042816],\n",
       "        [1.        , 0.39676684, 0.22709121],\n",
       "        [1.        , 0.37492818, 0.19316255],\n",
       "        [1.        , 0.36973916, 0.18698811],\n",
       "        [1.        , 0.38347979, 0.09768241],\n",
       "        [1.        , 0.44750195, 0.45494124],\n",
       "        [1.        , 0.28077581, 0.44680829],\n",
       "        [1.        , 0.27828411, 0.43561672],\n",
       "        [1.        , 0.17334849, 0.4263095 ],\n",
       "        [1.        , 0.26652112, 0.41762544],\n",
       "        [1.        , 0.12234123, 0.3926903 ],\n",
       "        [1.        , 0.23319161, 0.37093034],\n",
       "        [1.        , 0.17389884, 0.36625871],\n",
       "        [1.        , 0.16868563, 0.34861292],\n",
       "        [1.        , 0.14297032, 0.313705  ],\n",
       "        [1.        , 0.09377136, 0.07531837],\n",
       "        [1.        , 0.13412237, 0.06005714],\n",
       "        [1.        , 0.00604781, 0.00403363],\n",
       "        [1.        , 0.00795288, 0.62976701],\n",
       "        [1.        , 0.        , 0.        ],\n",
       "        [1.        , 0.00327792, 0.        ],\n",
       "        [1.        , 0.        , 0.09574933]]),\n",
       " <class 'statsmodels.iolib.summary.Summary'>\n",
       " \"\"\"\n",
       "                             OLS Regression Results                            \n",
       " ==============================================================================\n",
       " Dep. Variable:                      y   R-squared:                       0.948\n",
       " Model:                            OLS   Adj. R-squared:                  0.946\n",
       " Method:                 Least Squares   F-statistic:                     430.7\n",
       " Date:                Tue, 16 Apr 2019   Prob (F-statistic):           5.96e-31\n",
       " Time:                        19:15:20   Log-Likelihood:                 77.742\n",
       " No. Observations:                  50   AIC:                            -149.5\n",
       " Df Residuals:                      47   BIC:                            -143.7\n",
       " Df Model:                           2                                         \n",
       " Covariance Type:            nonrobust                                         \n",
       " ==============================================================================\n",
       "                  coef    std err          t      P>|t|      [0.025      0.975]\n",
       " ------------------------------------------------------------------------------\n",
       " const          0.1776      0.016     11.219      0.000       0.146       0.209\n",
       " x1             0.7303      0.042     17.491      0.000       0.646       0.814\n",
       " x2             0.0949      0.046      2.059      0.045       0.002       0.188\n",
       " ==============================================================================\n",
       " Omnibus:                       12.046   Durbin-Watson:                   1.354\n",
       " Prob(Omnibus):                  0.002   Jarque-Bera (JB):               14.766\n",
       " Skew:                          -0.848   Prob(JB):                     0.000622\n",
       " Kurtosis:                       5.053   Cond. No.                         9.43\n",
       " ==============================================================================\n",
       " \n",
       " Warnings:\n",
       " [1] Standard Errors assume that the covariance matrix of the errors is correctly specified.\n",
       " \"\"\")"
      ]
     },
     "execution_count": 178,
     "metadata": {},
     "output_type": "execute_result"
    }
   ],
   "source": [
    "def Kfaya_errors_b2a(x, y, alpha):\n",
    "    N = len(x[0])\n",
    "    temp = np.zeros((50,8)).astype(int)\n",
    "    for i in range(0, N):\n",
    "        reg = sm.OLS(y, x).fit()\n",
    "        P_val_max = float(max(reg.pvalues))\n",
    "        adjR_before = reg.rsquared_adj.astype(float)\n",
    "        if P_val_max > alpha:\n",
    "            for j in range(0, N - i):\n",
    "                if (reg.pvalues[j].astype(float) == P_val_max):\n",
    "                    temp[:,j] = x[:, j]\n",
    "                    x = np.delete(x, j, 1)\n",
    "                    tmp_reg = sm.OLS(y, x).fit()\n",
    "                    adjR_after = tmp_reg.rsquared_adj.astype(float)\n",
    "                    if (adjR_before >= adjR_after):\n",
    "                        x_rollback = np.hstack((x, temp[:,[0,j]]))\n",
    "                        x_rollback = np.delete(x_rollback, j, 1)\n",
    "                        print (reg.summary())\n",
    "                        return x_rollback\n",
    "                    else:\n",
    "                        continue\n",
    "    Final_Fit = reg.summary()\n",
    "    return x, Final_Fit\n",
    " \n",
    "Alpha = 0.05\n",
    "X_opt = Xfinal[:, [0, 1, 2, 3, 4, 5, 6, 7]]\n",
    "Kfaya_errors_b2a(X_opt,Yfinal, Alpha)"
   ]
  }
 ],
 "metadata": {
  "kernelspec": {
   "display_name": "Python 3",
   "language": "python",
   "name": "python3"
  },
  "language_info": {
   "codemirror_mode": {
    "name": "ipython",
    "version": 3
   },
   "file_extension": ".py",
   "mimetype": "text/x-python",
   "name": "python",
   "nbconvert_exporter": "python",
   "pygments_lexer": "ipython3",
   "version": "3.7.1"
  }
 },
 "nbformat": 4,
 "nbformat_minor": 2
}
