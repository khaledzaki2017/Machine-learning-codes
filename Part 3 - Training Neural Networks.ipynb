{
 "cells": [
  {
   "cell_type": "markdown",
   "metadata": {},
   "source": [
    "# Training Neural Networks\n",
    "\n",
    "The network we built in the previous part isn't so smart, it doesn't know anything about our handwritten digits. Neural networks with non-linear activations work like universal function approximators. There is some function that maps your input to the output. For example, images of handwritten digits to class probabilities. The power of neural networks is that we can train them to approximate this function, and basically any function given enough data and compute time.\n",
    "\n",
    "<img src=\"assets/function_approx.png\" width=500px>\n",
    "\n",
    "At first the network is naive, it doesn't know the function mapping the inputs to the outputs. We train the network by showing it examples of real data, then adjusting the network parameters such that it approximates this function.\n",
    "\n",
    "To find these parameters, we need to know how poorly the network is predicting the real outputs. For this we calculate a **loss function** (also called the cost), a measure of our prediction error. For example, the mean squared loss is often used in regression and binary classification problems\n",
    "\n",
    "$$\n",
    "\\ell = \\frac{1}{2n}\\sum_i^n{\\left(y_i - \\hat{y}_i\\right)^2}\n",
    "$$\n",
    "\n",
    "where $n$ is the number of training examples, $y_i$ are the true labels, and $\\hat{y}_i$ are the predicted labels.\n",
    "\n",
    "By minimizing this loss with respect to the network parameters, we can find configurations where the loss is at a minimum and the network is able to predict the correct labels with high accuracy. We find this minimum using a process called **gradient descent**. The gradient is the slope of the loss function and points in the direction of fastest change. To get to the minimum in the least amount of time, we then want to follow the gradient (downwards). You can think of this like descending a mountain by following the steepest slope to the base.\n",
    "\n",
    "<img src='assets/gradient_descent.png' width=350px>"
   ]
  },
  {
   "cell_type": "markdown",
   "metadata": {},
   "source": [
    "## Backpropagation\n",
    "\n",
    "For single layer networks, gradient descent is simple to implement. However, it's more complicated for deeper, multilayer neural networks like the one we've built. Complicated enough that it took about 30 years before researchers figured out how to train multilayer networks, although it's straightforward once you learn about it. \n",
    "\n",
    "This is done through **backpropagation** which is really just an application of the chain rule from calculus. It's easiest to understand if we convert a two layer network into a graph representation.\n",
    "\n",
    "<img src='assets/w1_backprop_graph.png' width=400px>\n",
    "\n",
    "In the forward pass through the network, our data and operations go from right to left here. To train the weights with gradient descent, we propagate the gradient of the cost backwards through the network. Mathematically, this is really just calculating the gradient of the loss with respect to the weights using the chain rule.\n",
    "\n",
    "$$\n",
    "\\frac{\\partial \\ell}{\\partial w_1} = \\frac{\\partial l_1}{\\partial w_1} \\frac{\\partial s}{\\partial l_1} \\frac{\\partial l_2}{\\partial s} \\frac{\\partial \\ell}{\\partial l_2}\n",
    "$$\n",
    "\n",
    "We update our weights using this gradient with some learning rate $\\alpha$. \n",
    "\n",
    "$$\n",
    "w^\\prime = w - \\alpha \\frac{\\partial \\ell}{\\partial w}\n",
    "$$\n",
    "\n",
    "The learning rate is set such that the weight update steps are small enough that the iterative method settles in a minimum.\n",
    "\n",
    "The first thing we need to do for training is define our loss function. In PyTorch, you'll usually see this as `criterion`. Here we're using softmax output, so we want to use `criterion = nn.CrossEntropyLoss()` as our loss. Later when training, you use `loss = criterion(output, targets)` to calculate the actual loss.\n",
    "\n",
    "We also need to define the optimizer we're using, SGD or Adam, or something along those lines. Here I'll just use SGD with `torch.optim.SGD`, passing in the network parameters and the learning rate."
   ]
  },
  {
   "cell_type": "markdown",
   "metadata": {},
   "source": [
    "## Autograd\n",
    "\n",
    "Torch provides a module, `autograd`, for automatically calculating the gradient of tensors. It does this by keeping track of operations performed on tensors. To make sure PyTorch keeps track of operations on a tensor and calculates the gradients, you need to set `requires_grad` on a tensor. You can do this at creation with the `requires_grad` keyword, or at any time with `x.requires_grad_(True)`.\n",
    "\n",
    "You can turn off gradients for a block of code with the `torch.no_grad()` content:\n",
    "```python\n",
    "x = torch.zeros(1, requires_grad=True)\n",
    ">>> with torch.no_grad():\n",
    "...     y = x * 2\n",
    ">>> y.requires_grad\n",
    "False\n",
    "```\n",
    "\n",
    "Also, you can turn on or off gradients altogether with `torch.set_grad_enabled(True|False)`.\n",
    "\n",
    "The gradients are computed with respect to some variable `z` with `z.backward()`. This does a backward pass through the operations that created `z`."
   ]
  },
  {
   "cell_type": "code",
   "execution_count": 1,
   "metadata": {
    "ExecuteTime": {
     "end_time": "2019-06-12T23:07:34.254712Z",
     "start_time": "2019-06-12T23:07:33.638247Z"
    }
   },
   "outputs": [],
   "source": [
    "%matplotlib inline\n",
    "%config InlineBackend.figure_format = 'retina'\n",
    "\n",
    "from collections import OrderedDict\n",
    "\n",
    "import numpy as np\n",
    "import time\n",
    "\n",
    "import torch\n",
    "from torch import nn\n",
    "from torch import optim\n",
    "import torch.nn.functional as F\n",
    "\n",
    "import helper"
   ]
  },
  {
   "cell_type": "code",
   "execution_count": 2,
   "metadata": {
    "ExecuteTime": {
     "end_time": "2019-06-12T23:07:35.504778Z",
     "start_time": "2019-06-12T23:07:35.492814Z"
    }
   },
   "outputs": [
    {
     "name": "stdout",
     "output_type": "stream",
     "text": [
      "tensor([[-0.5596,  0.3169],\n",
      "        [ 0.6521, -0.9786]], requires_grad=True)\n"
     ]
    }
   ],
   "source": [
    "x = torch.randn(2,2, requires_grad=True)\n",
    "print(x)"
   ]
  },
  {
   "cell_type": "code",
   "execution_count": 4,
   "metadata": {
    "ExecuteTime": {
     "end_time": "2019-06-02T16:07:57.041883Z",
     "start_time": "2019-06-02T16:07:57.034886Z"
    }
   },
   "outputs": [
    {
     "name": "stdout",
     "output_type": "stream",
     "text": [
      "tensor([[0.0305, 0.0460],\n",
      "        [8.8340, 0.2860]], grad_fn=<PowBackward0>)\n"
     ]
    }
   ],
   "source": [
    "y = x**2\n",
    "print(y)"
   ]
  },
  {
   "cell_type": "markdown",
   "metadata": {},
   "source": [
    "Below we can see the operation that created `y`, a power operation `PowBackward0`."
   ]
  },
  {
   "cell_type": "code",
   "execution_count": 5,
   "metadata": {
    "ExecuteTime": {
     "end_time": "2019-06-02T16:08:12.810466Z",
     "start_time": "2019-06-02T16:08:12.804465Z"
    }
   },
   "outputs": [
    {
     "name": "stdout",
     "output_type": "stream",
     "text": [
      "<PowBackward0 object at 0x000001AFA5288A90>\n"
     ]
    }
   ],
   "source": [
    "## grad_fn shows the function that generated this variable\n",
    "print(y.grad_fn)"
   ]
  },
  {
   "cell_type": "markdown",
   "metadata": {},
   "source": [
    "The autgrad module keeps track of these operations and knows how to calculate the gradient for each one. In this way, it's able to calculate the gradients for a chain of operations, with respect to any one tensor. Let's reduce the tensor `y` to a scalar value, the mean."
   ]
  },
  {
   "cell_type": "code",
   "execution_count": 6,
   "metadata": {
    "ExecuteTime": {
     "end_time": "2019-06-02T16:08:41.769234Z",
     "start_time": "2019-06-02T16:08:41.570236Z"
    }
   },
   "outputs": [
    {
     "name": "stdout",
     "output_type": "stream",
     "text": [
      "tensor(2.2991, grad_fn=<MeanBackward1>)\n"
     ]
    }
   ],
   "source": [
    "z = y.mean()\n",
    "print(z)"
   ]
  },
  {
   "cell_type": "markdown",
   "metadata": {},
   "source": [
    "You can check the gradients for `x` and `y` but they are empty currently."
   ]
  },
  {
   "cell_type": "code",
   "execution_count": 7,
   "metadata": {
    "ExecuteTime": {
     "end_time": "2019-06-02T16:09:06.994915Z",
     "start_time": "2019-06-02T16:09:06.989887Z"
    }
   },
   "outputs": [
    {
     "name": "stdout",
     "output_type": "stream",
     "text": [
      "None\n"
     ]
    }
   ],
   "source": [
    "print(x.grad)"
   ]
  },
  {
   "cell_type": "markdown",
   "metadata": {},
   "source": [
    "To calculate the gradients, you need to run the `.backward` method on a Variable, `z` for example. This will calculate the gradient for `z` with respect to `x`\n",
    "\n",
    "$$\n",
    "\\frac{\\partial z}{\\partial x} = \\frac{\\partial}{\\partial x}\\left[\\frac{1}{n}\\sum_i^n x_i^2\\right] = \\frac{x}{2}\n",
    "$$"
   ]
  },
  {
   "cell_type": "code",
   "execution_count": 8,
   "metadata": {
    "ExecuteTime": {
     "end_time": "2019-06-02T16:09:56.327176Z",
     "start_time": "2019-06-02T16:09:53.479841Z"
    }
   },
   "outputs": [
    {
     "name": "stdout",
     "output_type": "stream",
     "text": [
      "tensor([[ 0.0874, -0.1072],\n",
      "        [-1.4861, -0.2674]])\n",
      "tensor([[ 0.0874, -0.1072],\n",
      "        [-1.4861, -0.2674]], grad_fn=<DivBackward0>)\n"
     ]
    }
   ],
   "source": [
    "z.backward()\n",
    "print(x.grad)\n",
    "print(x/2)"
   ]
  },
  {
   "cell_type": "markdown",
   "metadata": {},
   "source": [
    "These gradients calculations are particularly useful for neural networks. For training we need the gradients of the weights with respect to the cost. With PyTorch, we run data forward through the network to calculate the cost, then, go backwards to calculate the gradients with respect to the cost. Once we have the gradients we can make a gradient descent step. "
   ]
  },
  {
   "cell_type": "markdown",
   "metadata": {},
   "source": [
    "## Get the data and define the network\n",
    "\n",
    "The same as we saw in part 3, we'll load the MNIST dataset and define our network."
   ]
  },
  {
   "cell_type": "code",
   "execution_count": 9,
   "metadata": {
    "ExecuteTime": {
     "end_time": "2019-06-02T16:10:32.421380Z",
     "start_time": "2019-06-02T16:10:32.092379Z"
    }
   },
   "outputs": [],
   "source": [
    "from torchvision import datasets, transforms\n",
    "\n",
    "# Define a transform to normalize the data\n",
    "transform = transforms.Compose([transforms.ToTensor(),\n",
    "                              transforms.Normalize((0.5, 0.5, 0.5), (0.5, 0.5, 0.5)),\n",
    "                             ])\n",
    "# Download and load the training data\n",
    "trainset = datasets.MNIST('MNIST_data/', download=True, train=True, transform=transform)\n",
    "trainloader = torch.utils.data.DataLoader(trainset, batch_size=64, shuffle=True)"
   ]
  },
  {
   "cell_type": "markdown",
   "metadata": {},
   "source": [
    "I'll build a network with `nn.Sequential` here. Only difference from the last part is I'm not actually using softmax on the output, but instead just using the raw output from the last layer. This is because the output from softmax is a probability distribution. Often, the output will have values really close to zero or really close to one. Due to [inaccuracies with representing numbers as floating points](https://docs.python.org/3/tutorial/floatingpoint.html), computations with a softmax output can lose accuracy and become unstable. To get around this, we'll use the raw output, called the **logits**, to calculate the loss."
   ]
  },
  {
   "cell_type": "code",
   "execution_count": 10,
   "metadata": {
    "ExecuteTime": {
     "end_time": "2019-06-02T16:11:01.698788Z",
     "start_time": "2019-06-02T16:11:01.690796Z"
    }
   },
   "outputs": [],
   "source": [
    "# Hyperparameters for our network\n",
    "input_size = 784\n",
    "hidden_sizes = [128, 64]\n",
    "output_size = 10\n",
    "\n",
    "# Build a feed-forward network\n",
    "model = nn.Sequential(OrderedDict([\n",
    "                      ('fc1', nn.Linear(input_size, hidden_sizes[0])),\n",
    "                      ('relu1', nn.ReLU()),\n",
    "                      ('fc2', nn.Linear(hidden_sizes[0], hidden_sizes[1])),\n",
    "                      ('relu2', nn.ReLU()),\n",
    "                      ('logits', nn.Linear(hidden_sizes[1], output_size))]))"
   ]
  },
  {
   "cell_type": "code",
   "execution_count": 11,
   "metadata": {
    "ExecuteTime": {
     "end_time": "2019-06-02T16:12:53.871553Z",
     "start_time": "2019-06-02T16:12:53.863585Z"
    },
    "scrolled": true
   },
   "outputs": [
    {
     "data": {
      "text/plain": [
       "Sequential(\n",
       "  (fc1): Linear(in_features=784, out_features=128, bias=True)\n",
       "  (relu1): ReLU()\n",
       "  (fc2): Linear(in_features=128, out_features=64, bias=True)\n",
       "  (relu2): ReLU()\n",
       "  (logits): Linear(in_features=64, out_features=10, bias=True)\n",
       ")"
      ]
     },
     "execution_count": 11,
     "metadata": {},
     "output_type": "execute_result"
    }
   ],
   "source": [
    "model"
   ]
  },
  {
   "cell_type": "code",
   "execution_count": 14,
   "metadata": {
    "ExecuteTime": {
     "end_time": "2019-06-02T16:13:20.225499Z",
     "start_time": "2019-06-02T16:13:20.219501Z"
    }
   },
   "outputs": [
    {
     "data": {
      "text/plain": [
       "<bound method Module.parameters of Sequential(\n",
       "  (fc1): Linear(in_features=784, out_features=128, bias=True)\n",
       "  (relu1): ReLU()\n",
       "  (fc2): Linear(in_features=128, out_features=64, bias=True)\n",
       "  (relu2): ReLU()\n",
       "  (logits): Linear(in_features=64, out_features=10, bias=True)\n",
       ")>"
      ]
     },
     "execution_count": 14,
     "metadata": {},
     "output_type": "execute_result"
    }
   ],
   "source": [
    "model.parameters"
   ]
  },
  {
   "cell_type": "markdown",
   "metadata": {},
   "source": [
    "## Training the network!\n",
    "\n",
    "The first thing we need to do for training is define our loss function. In PyTorch, you'll usually see this as `criterion`. Here we're using softmax output, so we want to use `criterion = nn.CrossEntropyLoss()` as our loss. Later when training, you use `loss = criterion(output, targets)` to calculate the actual loss.\n",
    "\n",
    "We also need to define the optimizer we're using, SGD or Adam, or something along those lines. Here I'll just use SGD with `torch.optim.SGD`, passing in the network parameters and the learning rate."
   ]
  },
  {
   "cell_type": "code",
   "execution_count": 15,
   "metadata": {
    "ExecuteTime": {
     "end_time": "2019-06-02T16:13:28.281326Z",
     "start_time": "2019-06-02T16:13:28.269331Z"
    }
   },
   "outputs": [],
   "source": [
    "criterion = nn.CrossEntropyLoss()\n",
    "optimizer = optim.SGD(model.parameters(), lr=0.01)"
   ]
  },
  {
   "cell_type": "markdown",
   "metadata": {},
   "source": [
    "First, let's consider just one learning step before looping through all the data. The general process with PyTorch:\n",
    "\n",
    "* Make a forward pass through the network to get the logits \n",
    "* Use the logits to calculate the loss\n",
    "* Perform a backward pass through the network with `loss.backward()` to calculate the gradients\n",
    "* Take a step with the optimizer to update the weights\n",
    "\n",
    "Below I'll go through one training step and print out the weights and gradients so you can see how it changes."
   ]
  },
  {
   "cell_type": "code",
   "execution_count": 16,
   "metadata": {
    "ExecuteTime": {
     "end_time": "2019-06-02T16:14:19.691429Z",
     "start_time": "2019-06-02T16:14:19.677438Z"
    }
   },
   "outputs": [
    {
     "name": "stdout",
     "output_type": "stream",
     "text": [
      "Initial weights -  Parameter containing:\n",
      "tensor([[-0.0044,  0.0171,  0.0197,  ..., -0.0058, -0.0137, -0.0291],\n",
      "        [-0.0340, -0.0285, -0.0064,  ..., -0.0107,  0.0256, -0.0201],\n",
      "        [ 0.0163,  0.0206, -0.0192,  ...,  0.0295, -0.0170, -0.0022],\n",
      "        ...,\n",
      "        [ 0.0044,  0.0276, -0.0245,  ..., -0.0116,  0.0277, -0.0137],\n",
      "        [ 0.0161, -0.0028,  0.0187,  ...,  0.0095,  0.0210,  0.0119],\n",
      "        [ 0.0234,  0.0074, -0.0227,  ..., -0.0137,  0.0178,  0.0121]],\n",
      "       requires_grad=True)\n"
     ]
    }
   ],
   "source": [
    "print('Initial weights - ', model.fc1.weight)"
   ]
  },
  {
   "cell_type": "code",
   "execution_count": 17,
   "metadata": {
    "ExecuteTime": {
     "end_time": "2019-06-02T16:15:36.283963Z",
     "start_time": "2019-06-02T16:15:35.608237Z"
    }
   },
   "outputs": [
    {
     "name": "stdout",
     "output_type": "stream",
     "text": [
      "Gradient - tensor([[-0.0011, -0.0011, -0.0011,  ..., -0.0011, -0.0011, -0.0011],\n",
      "        [ 0.0033,  0.0033,  0.0033,  ...,  0.0033,  0.0033,  0.0033],\n",
      "        [ 0.0026,  0.0026,  0.0026,  ...,  0.0026,  0.0026,  0.0026],\n",
      "        ...,\n",
      "        [ 0.0001,  0.0001,  0.0001,  ...,  0.0001,  0.0001,  0.0001],\n",
      "        [ 0.0024,  0.0024,  0.0024,  ...,  0.0024,  0.0024,  0.0024],\n",
      "        [ 0.0034,  0.0034,  0.0034,  ...,  0.0034,  0.0034,  0.0034]])\n"
     ]
    }
   ],
   "source": [
    "images, labels = next(iter(trainloader))\n",
    "images.resize_(64, 784)\n",
    "\n",
    "# Clear the gradients, do this because gradients are accumulated\n",
    "optimizer.zero_grad()\n",
    "\n",
    "# Forward pass, then backward pass, then update weights\n",
    "output = model.forward(images)\n",
    "loss = criterion(output, labels)\n",
    "loss.backward()\n",
    "print('Gradient -', model.fc1.weight.grad)\n",
    "optimizer.step()"
   ]
  },
  {
   "cell_type": "code",
   "execution_count": 18,
   "metadata": {
    "ExecuteTime": {
     "end_time": "2019-06-02T16:15:54.588215Z",
     "start_time": "2019-06-02T16:15:54.577255Z"
    }
   },
   "outputs": [
    {
     "name": "stdout",
     "output_type": "stream",
     "text": [
      "Updated weights -  Parameter containing:\n",
      "tensor([[-0.0044,  0.0171,  0.0197,  ..., -0.0058, -0.0137, -0.0290],\n",
      "        [-0.0341, -0.0285, -0.0064,  ..., -0.0108,  0.0256, -0.0201],\n",
      "        [ 0.0162,  0.0206, -0.0192,  ...,  0.0295, -0.0170, -0.0022],\n",
      "        ...,\n",
      "        [ 0.0044,  0.0276, -0.0245,  ..., -0.0116,  0.0277, -0.0137],\n",
      "        [ 0.0161, -0.0028,  0.0186,  ...,  0.0095,  0.0210,  0.0119],\n",
      "        [ 0.0233,  0.0074, -0.0227,  ..., -0.0137,  0.0178,  0.0121]],\n",
      "       requires_grad=True)\n"
     ]
    }
   ],
   "source": [
    "print('Updated weights - ', model.fc1.weight)"
   ]
  },
  {
   "cell_type": "markdown",
   "metadata": {},
   "source": [
    "### Training for real\n",
    "\n",
    "Now we'll put this algorithm into a loop so we can go through all the images. This is fairly straightforward. We'll loop through the mini-batches in our dataset, pass the data through the network to calculate the losses, get the gradients, then run the optimizer."
   ]
  },
  {
   "cell_type": "code",
   "execution_count": 19,
   "metadata": {
    "ExecuteTime": {
     "end_time": "2019-06-02T16:16:11.472400Z",
     "start_time": "2019-06-02T16:16:11.468398Z"
    }
   },
   "outputs": [],
   "source": [
    "optimizer = optim.SGD(model.parameters(), lr=0.003)"
   ]
  },
  {
   "cell_type": "code",
   "execution_count": 22,
   "metadata": {
    "ExecuteTime": {
     "end_time": "2019-06-02T16:19:26.848197Z",
     "start_time": "2019-06-02T16:18:26.424939Z"
    }
   },
   "outputs": [
    {
     "name": "stdout",
     "output_type": "stream",
     "text": [
      "Epoch: 1/5...  Loss: 0.4788\n",
      "Epoch: 1/5...  Loss: 0.4877\n",
      "Epoch: 1/5...  Loss: 0.4627\n",
      "Epoch: 1/5...  Loss: 0.4378\n",
      "Epoch: 1/5...  Loss: 0.4577\n",
      "Epoch: 1/5...  Loss: 0.4405\n",
      "Epoch: 1/5...  Loss: 0.4258\n",
      "Epoch: 1/5...  Loss: 0.4454\n",
      "Epoch: 1/5...  Loss: 0.4451\n",
      "Epoch: 1/5...  Loss: 0.4289\n",
      "Epoch: 1/5...  Loss: 0.4378\n",
      "Epoch: 1/5...  Loss: 0.3997\n",
      "Epoch: 1/5...  Loss: 0.4261\n",
      "Epoch: 1/5...  Loss: 0.4147\n",
      "Epoch: 1/5...  Loss: 0.4238\n",
      "Epoch: 1/5...  Loss: 0.4167\n",
      "Epoch: 1/5...  Loss: 0.4408\n",
      "Epoch: 1/5...  Loss: 0.4028\n",
      "Epoch: 1/5...  Loss: 0.3920\n",
      "Epoch: 1/5...  Loss: 0.4102\n",
      "Epoch: 1/5...  Loss: 0.4129\n",
      "Epoch: 1/5...  Loss: 0.4364\n",
      "Epoch: 1/5...  Loss: 0.4182\n",
      "Epoch: 2/5...  Loss: 0.2132\n",
      "Epoch: 2/5...  Loss: 0.3870\n",
      "Epoch: 2/5...  Loss: 0.3818\n",
      "Epoch: 2/5...  Loss: 0.3879\n",
      "Epoch: 2/5...  Loss: 0.4083\n",
      "Epoch: 2/5...  Loss: 0.4117\n",
      "Epoch: 2/5...  Loss: 0.4177\n",
      "Epoch: 2/5...  Loss: 0.4046\n",
      "Epoch: 2/5...  Loss: 0.4059\n",
      "Epoch: 2/5...  Loss: 0.3762\n",
      "Epoch: 2/5...  Loss: 0.3666\n",
      "Epoch: 2/5...  Loss: 0.4030\n",
      "Epoch: 2/5...  Loss: 0.3580\n",
      "Epoch: 2/5...  Loss: 0.3640\n",
      "Epoch: 2/5...  Loss: 0.3717\n",
      "Epoch: 2/5...  Loss: 0.3785\n",
      "Epoch: 2/5...  Loss: 0.4027\n",
      "Epoch: 2/5...  Loss: 0.3907\n",
      "Epoch: 2/5...  Loss: 0.4107\n",
      "Epoch: 2/5...  Loss: 0.3898\n",
      "Epoch: 2/5...  Loss: 0.3845\n",
      "Epoch: 2/5...  Loss: 0.3696\n",
      "Epoch: 2/5...  Loss: 0.3992\n",
      "Epoch: 3/5...  Loss: 0.0463\n",
      "Epoch: 3/5...  Loss: 0.3830\n",
      "Epoch: 3/5...  Loss: 0.3412\n",
      "Epoch: 3/5...  Loss: 0.3586\n",
      "Epoch: 3/5...  Loss: 0.3489\n",
      "Epoch: 3/5...  Loss: 0.3672\n",
      "Epoch: 3/5...  Loss: 0.3511\n",
      "Epoch: 3/5...  Loss: 0.3817\n",
      "Epoch: 3/5...  Loss: 0.3712\n",
      "Epoch: 3/5...  Loss: 0.3839\n",
      "Epoch: 3/5...  Loss: 0.3753\n",
      "Epoch: 3/5...  Loss: 0.3349\n",
      "Epoch: 3/5...  Loss: 0.3666\n",
      "Epoch: 3/5...  Loss: 0.3748\n",
      "Epoch: 3/5...  Loss: 0.3818\n",
      "Epoch: 3/5...  Loss: 0.3597\n",
      "Epoch: 3/5...  Loss: 0.3672\n",
      "Epoch: 3/5...  Loss: 0.3578\n",
      "Epoch: 3/5...  Loss: 0.3561\n",
      "Epoch: 3/5...  Loss: 0.3391\n",
      "Epoch: 3/5...  Loss: 0.3732\n",
      "Epoch: 3/5...  Loss: 0.3525\n",
      "Epoch: 3/5...  Loss: 0.3388\n",
      "Epoch: 3/5...  Loss: 0.3540\n",
      "Epoch: 4/5...  Loss: 0.2335\n",
      "Epoch: 4/5...  Loss: 0.3624\n",
      "Epoch: 4/5...  Loss: 0.3894\n",
      "Epoch: 4/5...  Loss: 0.3696\n",
      "Epoch: 4/5...  Loss: 0.3336\n",
      "Epoch: 4/5...  Loss: 0.3426\n",
      "Epoch: 4/5...  Loss: 0.3467\n",
      "Epoch: 4/5...  Loss: 0.3559\n",
      "Epoch: 4/5...  Loss: 0.3512\n",
      "Epoch: 4/5...  Loss: 0.3610\n",
      "Epoch: 4/5...  Loss: 0.3460\n",
      "Epoch: 4/5...  Loss: 0.3449\n",
      "Epoch: 4/5...  Loss: 0.3354\n",
      "Epoch: 4/5...  Loss: 0.3330\n",
      "Epoch: 4/5...  Loss: 0.3264\n",
      "Epoch: 4/5...  Loss: 0.3487\n",
      "Epoch: 4/5...  Loss: 0.3402\n",
      "Epoch: 4/5...  Loss: 0.3065\n",
      "Epoch: 4/5...  Loss: 0.3474\n",
      "Epoch: 4/5...  Loss: 0.3388\n",
      "Epoch: 4/5...  Loss: 0.3403\n",
      "Epoch: 4/5...  Loss: 0.3091\n",
      "Epoch: 4/5...  Loss: 0.3270\n",
      "Epoch: 5/5...  Loss: 0.0817\n",
      "Epoch: 5/5...  Loss: 0.3348\n",
      "Epoch: 5/5...  Loss: 0.3542\n",
      "Epoch: 5/5...  Loss: 0.3226\n",
      "Epoch: 5/5...  Loss: 0.3152\n",
      "Epoch: 5/5...  Loss: 0.3205\n",
      "Epoch: 5/5...  Loss: 0.3207\n",
      "Epoch: 5/5...  Loss: 0.3179\n",
      "Epoch: 5/5...  Loss: 0.3430\n",
      "Epoch: 5/5...  Loss: 0.3112\n",
      "Epoch: 5/5...  Loss: 0.3384\n",
      "Epoch: 5/5...  Loss: 0.3121\n",
      "Epoch: 5/5...  Loss: 0.3349\n",
      "Epoch: 5/5...  Loss: 0.3290\n",
      "Epoch: 5/5...  Loss: 0.3197\n",
      "Epoch: 5/5...  Loss: 0.3090\n",
      "Epoch: 5/5...  Loss: 0.3398\n",
      "Epoch: 5/5...  Loss: 0.3363\n",
      "Epoch: 5/5...  Loss: 0.3059\n",
      "Epoch: 5/5...  Loss: 0.3396\n",
      "Epoch: 5/5...  Loss: 0.3433\n",
      "Epoch: 5/5...  Loss: 0.3303\n",
      "Epoch: 5/5...  Loss: 0.3120\n",
      "Epoch: 5/5...  Loss: 0.3458\n"
     ]
    }
   ],
   "source": [
    "epochs = 5\n",
    "print_every = 40\n",
    "steps = 0\n",
    "for e in range(epochs):\n",
    "    running_loss = 0\n",
    "    for images, labels in iter(trainloader):\n",
    "        steps += 1\n",
    "        # Flatten MNIST images into a 784 long vector\n",
    "        images.resize_(images.size()[0], 784)\n",
    "        \n",
    "        optimizer.zero_grad()\n",
    "        \n",
    "        # Forward and backward passes\n",
    "        output = model.forward(images)\n",
    "        loss = criterion(output, labels)\n",
    "        loss.backward()\n",
    "        optimizer.step()\n",
    "        \n",
    "        running_loss += loss.item()\n",
    "        \n",
    "        if steps % print_every == 0:\n",
    "            print(\"Epoch: {}/{}... \".format(e+1, epochs),\n",
    "                  \"Loss: {:.4f}\".format(running_loss/print_every))\n",
    "            \n",
    "            running_loss = 0"
   ]
  },
  {
   "cell_type": "markdown",
   "metadata": {},
   "source": [
    "With the network trained, we can check out it's predictions."
   ]
  },
  {
   "cell_type": "code",
   "execution_count": 21,
   "metadata": {
    "ExecuteTime": {
     "end_time": "2019-06-02T16:18:10.915951Z",
     "start_time": "2019-06-02T16:18:10.511953Z"
    }
   },
   "outputs": [
    {
     "data": {
      "image/png": "[encoded data removed]",
      "text/plain": [
       "<Figure size 432x648 with 2 Axes>"
      ]
     },
     "metadata": {
      "image/png": {
       "height": 224,
       "width": 423
      }
     },
     "output_type": "display_data"
    }
   ],
   "source": [
    "images, labels = next(iter(trainloader))\n",
    "\n",
    "img = images[0].view(1, 784)\n",
    "# Turn off gradients to speed up this part\n",
    "with torch.no_grad():\n",
    "    logits = model.forward(img)\n",
    "\n",
    "# Output of the network are logits, need to take softmax for probabilities\n",
    "ps = F.softmax(logits, dim=1)\n",
    "helper.view_classify(img.view(1, 28, 28), ps)"
   ]
  },
  {
   "cell_type": "markdown",
   "metadata": {},
   "source": [
    "Now our network is brilliant. It can accurately predict the digits in our images. Next up you'll write the code for training a neural network on a more complex dataset."
   ]
  }
 ],
 "metadata": {
  "kernelspec": {
   "display_name": "Python 3",
   "language": "python",
   "name": "python3"
  },
  "language_info": {
   "codemirror_mode": {
    "name": "ipython",
    "version": 3
   },
   "file_extension": ".py",
   "mimetype": "text/x-python",
   "name": "python",
   "nbconvert_exporter": "python",
   "pygments_lexer": "ipython3",
   "version": "3.6.5"
  },
  "toc": {
   "base_numbering": 1,
   "nav_menu": {},
   "number_sections": true,
   "sideBar": true,
   "skip_h1_title": false,
   "title_cell": "Table of Contents",
   "title_sidebar": "Contents",
   "toc_cell": false,
   "toc_position": {},
   "toc_section_display": true,
   "toc_window_display": true
  }
 },
 "nbformat": 4,
 "nbformat_minor": 2
}
